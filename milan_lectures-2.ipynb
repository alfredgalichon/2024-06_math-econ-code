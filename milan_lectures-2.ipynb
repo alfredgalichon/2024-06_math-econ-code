{
 "cells": [
  {
   "cell_type": "code",
   "execution_count": 1,
   "metadata": {},
   "outputs": [],
   "source": [
    "import numpy as np\n",
    "import gurobipy as grb"
   ]
  },
  {
   "cell_type": "code",
   "execution_count": 7,
   "metadata": {},
   "outputs": [],
   "source": [
    "X=Y=10\n",
    "B=1000\n",
    "np.random.seed(7)\n",
    "phi_x_y = np.random.uniform(size = (X,Y))\n",
    "epsilon_b_x_y = np.random.normal(size= (B,X,Y))\n",
    "epsilon_b_x_0 = np.random.normal(size= (B,X))\n",
    "eta_x_b_y =  np.random.normal(size= (X,B,Y))\n",
    "eta_0_b_y =  np.random.normal(size= (B,Y))"
   ]
  },
  {
   "cell_type": "code",
   "execution_count": 8,
   "metadata": {},
   "outputs": [],
   "source": [
    "m = grb.Model()\n",
    "u_b_x = m.addMVar((B,X) , lb = -grb.GRB.INFINITY)\n",
    "v_b_y = m.addMVar((B,Y), lb = -grb.GRB.INFINITY)\n",
    "U_x_y = m.addMVar((X,Y), lb = -grb.GRB.INFINITY)\n",
    "V_x_y = m.addMVar((X,Y), lb = -grb.GRB.INFINITY)\n",
    "m.setObjective(u_b_x.sum() + v_b_y.sum(), sense = grb.GRB.MINIMIZE)\n",
    "mu_x_y = m.addConstr(U_x_y + V_x_y == phi_x_y )\n",
    "mu_b_x_y = m.addConstr(u_b_x[:,:,None] >= U_x_y[None,:,:] + epsilon_b_x_y )\n",
    "mu_b_x_0 = m.addConstr(u_b_x >= epsilon_b_x_0 )\n",
    "mu_x_b_y = m.addConstr(v_b_y[None,:,:] >= V_x_y[:,None,:] + eta_x_b_y )\n",
    "mu_0_b_y = m.addConstr(v_b_y >= eta_0_b_y)\n"
   ]
  },
  {
   "cell_type": "code",
   "execution_count": 9,
   "metadata": {},
   "outputs": [
    {
     "name": "stdout",
     "output_type": "stream",
     "text": [
      "Gurobi Optimizer version 10.0.2 build v10.0.2rc0 (win64)\n",
      "\n",
      "CPU model: 11th Gen Intel(R) Core(TM) i5-1135G7 @ 2.40GHz, instruction set [SSE2|AVX|AVX2|AVX512]\n",
      "Thread count: 4 physical cores, 8 logical processors, using up to 8 threads\n",
      "\n",
      "Optimize a model with 220100 rows, 20200 columns and 420200 nonzeros\n",
      "Model fingerprint: 0x2523a1fd\n",
      "Coefficient statistics:\n",
      "  Matrix range     [1e+00, 1e+00]\n",
      "  Objective range  [1e+00, 1e+00]\n",
      "  Bounds range     [0e+00, 0e+00]\n",
      "  RHS range        [1e-07, 5e+00]\n",
      "Presolve removed 20100 rows and 100 columns\n",
      "Presolve time: 1.49s\n",
      "Presolved: 20100 rows, 220000 columns, 420000 nonzeros\n",
      "\n",
      "Concurrent LP optimizer: dual simplex and barrier\n",
      "Showing barrier log only...\n",
      "\n",
      "Ordering time: 0.06s\n",
      "\n",
      "Barrier statistics:\n",
      " AA' NZ     : 2.000e+05\n",
      " Factor NZ  : 2.256e+05 (roughly 100 MB of memory)\n",
      " Factor Ops : 2.782e+06 (less than 1 second per iteration)\n",
      " Threads    : 3\n",
      "\n",
      "                  Objective                Residual\n",
      "Iter       Primal          Dual         Primal    Dual     Compl     Time\n",
      "   0   1.66871754e+04  4.98244853e+03  2.35e+00 3.57e+01  6.12e+00     2s\n",
      "   1   1.23879259e+04  5.52478316e+04  2.84e-13 1.45e+01  1.16e+00     3s\n",
      "   2   2.34194191e+04  3.52556237e+04  4.25e-13 2.98e+00  3.03e-01     3s\n",
      "   3   3.55480140e+04  3.73021739e+04  4.33e-13 4.56e-01  4.69e-02     3s\n",
      "   4   3.69846815e+04  3.71383621e+04  7.18e-13 7.42e-02  5.27e-03     3s\n",
      "   5   3.70502587e+04  3.71091968e+04  1.23e-12 2.89e-02  2.04e-03     3s\n",
      "   6   3.70697583e+04  3.70969837e+04  2.23e-12 1.00e-02  8.33e-04     3s\n",
      "   7   3.70822271e+04  3.70933135e+04  5.78e-12 4.50e-03  3.53e-04     4s\n",
      "   8   3.70872001e+04  3.70917288e+04  7.89e-12 2.16e-03  1.56e-04     4s\n",
      "   9   3.70890401e+04  3.70907354e+04  6.58e-12 7.23e-04  5.54e-05     4s\n",
      "  10   3.70901596e+04  3.70902916e+04  2.14e-12 8.42e-05  5.29e-06     4s\n",
      "  11   3.70902295e+04  3.70902375e+04  1.11e-12 1.01e-05  4.94e-07     4s\n",
      "\n",
      "Barrier performed 11 iterations in 4.06 seconds (0.85 work units)\n",
      "Barrier solve interrupted - model solved by another algorithm\n",
      "\n",
      "\n",
      "Solved with dual simplex\n",
      "Iteration    Objective       Primal Inf.    Dual Inf.      Time\n",
      "    4429    3.7090230e+04   0.000000e+00   0.000000e+00      4s\n",
      "\n",
      "Solved in 4429 iterations and 4.46 seconds (0.90 work units)\n",
      "Optimal objective  3.709023012e+04\n"
     ]
    }
   ],
   "source": [
    "m.optimize()"
   ]
  },
  {
   "cell_type": "code",
   "execution_count": 10,
   "metadata": {},
   "outputs": [
    {
     "data": {
      "text/plain": [
       "array([[ 61.,  65., 127., 135., 129., 110.,  80.,  53., 121.,  72.],\n",
       "       [ 73.,  67.,  65., 107., 116.,  87., 125., 117.,  78., 107.],\n",
       "       [ 60., 111., 102.,  61., 110., 104., 119.,  92.,  86., 111.],\n",
       "       [118.,  69., 107.,  76.,  77.,  73., 135.,  78.,  92., 119.],\n",
       "       [120., 107.,  55.,  72., 116.,  86.,  74., 135.,  88.,  90.],\n",
       "       [113.,  94., 118.,  96.,  76.,  99.,  72.,  68., 104., 112.],\n",
       "       [134.,  89.,  72., 102.,  90.,  97.,  87.,  94.,  99.,  72.],\n",
       "       [113., 108.,  77.,  97.,  74.,  91.,  88., 101.,  85., 101.],\n",
       "       [ 88., 116.,  88.,  86.,  83., 118.,  62.,  87., 129.,  74.],\n",
       "       [ 71., 113., 124., 101.,  90.,  95.,  88., 108.,  59.,  93.]])"
      ]
     },
     "execution_count": 10,
     "metadata": {},
     "output_type": "execute_result"
    }
   ],
   "source": [
    "mu_x_y.pi"
   ]
  },
  {
   "cell_type": "code",
   "execution_count": 13,
   "metadata": {},
   "outputs": [
    {
     "name": "stdout",
     "output_type": "stream",
     "text": [
      "85\n",
      "[-2.68997396 -2.70265814 -2.71749333 -2.60391803 -2.64979922 -2.82749363\n",
      " -2.58534587 -2.54181749 -2.56559241 -2.68801907] [-2.71625255 -2.6029179  -2.61474448 -2.56459328 -2.73891937 -2.7302576\n",
      " -2.54203306 -2.64431606 -2.69423228 -2.71698553]\n"
     ]
    }
   ],
   "source": [
    "n_x,m_y = np.ones(X),np.ones(Y)\n",
    "a_x,b_y = np.zeros(X),np.zeros(Y)\n",
    "K_x_y = np.exp(phi_x_y / 2)\n",
    "maxIter = 10000\n",
    "eps = 0.2\n",
    "tol = 1e-5\n",
    "for i in range(maxIter):\n",
    "    mu_x_y = K_x_y * np.exp( (a_x[:,None]+b_y[None,:])/2 )\n",
    "    mu_x0 = np.exp(a_x)\n",
    "    mu_0y = np.exp(b_y)\n",
    "    der_x = mu_x0 + mu_x_y.sum( axis = 1) - n_x \n",
    "    der_y = mu_0y + mu_x_y.sum( axis = 0) - m_y\n",
    "    if max(np.max(np.abs(der_x / n_x)),np.max(np.abs(der_y / m_y)))<tol:\n",
    "        break\n",
    "    a_x -= eps * der_x\n",
    "    b_y -= eps * der_y\n",
    "\n",
    "print(i)\n",
    "print(a_x,b_y)"
   ]
  },
  {
   "cell_type": "code",
   "execution_count": 17,
   "metadata": {},
   "outputs": [
    {
     "name": "stdout",
     "output_type": "stream",
     "text": [
      "[-2.69008341 -2.70276748 -2.71760258 -2.60402944 -2.64991112 -2.82759862\n",
      " -2.58545785 -2.54192916 -2.56570492 -2.68812738] [-2.71613822 -2.60281044 -2.61463802 -2.56448845 -2.73880475 -2.73014385\n",
      " -2.54192865 -2.64420594 -2.69412038 -2.7168726 ]\n"
     ]
    }
   ],
   "source": [
    "A_x,B_y = np.ones(X),np.ones(Y)\n",
    "maxIter = 1000\n",
    "for i in range(maxIter):\n",
    "    halfKB_x = K_x_y @ B_y / 2\n",
    "    A_x = np.sqrt(halfKB_x*halfKB_x + n_x) - halfKB_x\n",
    "    halfAK_y = A_x @ K_x_y / 2\n",
    "    B_y = np.sqrt(halfAK_y*halfAK_y + m_y) - halfAK_y\n",
    "    \n",
    "a_x,b_y = 2*np.log(A_x), 2*np.log(B_y)\n",
    "print(a_x,b_y)"
   ]
  }
 ],
 "metadata": {
  "colab": {
   "provenance": []
  },
  "kernelspec": {
   "display_name": "Python 3 (ipykernel)",
   "language": "python",
   "name": "python3"
  },
  "language_info": {
   "codemirror_mode": {
    "name": "ipython",
    "version": 3
   },
   "file_extension": ".py",
   "mimetype": "text/x-python",
   "name": "python",
   "nbconvert_exporter": "python",
   "pygments_lexer": "ipython3",
   "version": "3.11.4"
  }
 },
 "nbformat": 4,
 "nbformat_minor": 1
}
