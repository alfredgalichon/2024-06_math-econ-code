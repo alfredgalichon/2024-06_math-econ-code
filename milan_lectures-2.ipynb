{
 "cells": [
  {
   "cell_type": "code",
   "execution_count": 1,
   "metadata": {},
   "outputs": [],
   "source": [
    "import numpy as np\n",
    "import gurobipy as grb"
   ]
  },
  {
   "cell_type": "code",
   "execution_count": 2,
   "metadata": {},
   "outputs": [],
   "source": [
    "X=Y=10\n",
    "B=1000\n",
    "np.random.seed(7)\n",
    "phi_x_y = np.random.uniform(size = (X,Y))\n",
    "epsilon_b_x_y = np.random.normal(size= (B,X,Y))\n",
    "epsilon_b_x_0 = np.random.normal(size= (B,X))\n",
    "eta_x_b_y =  np.random.normal(size= (X,B,Y))\n",
    "eta_0_b_y =  np.random.normal(size= (B,Y))"
   ]
  },
  {
   "cell_type": "code",
   "execution_count": 3,
   "metadata": {},
   "outputs": [
    {
     "name": "stdout",
     "output_type": "stream",
     "text": [
      "Set parameter Username\n",
      "Academic license - for non-commercial use only - expires 2024-12-08\n"
     ]
    }
   ],
   "source": [
    "m = grb.Model()\n",
    "u_b_x = m.addMVar((B,X) , lb = -grb.GRB.INFINITY)\n",
    "v_b_y = m.addMVar((B,Y), lb = -grb.GRB.INFINITY)\n",
    "U_x_y = m.addMVar((X,Y), lb = -grb.GRB.INFINITY)\n",
    "V_x_y = m.addMVar((X,Y), lb = -grb.GRB.INFINITY)\n",
    "m.setObjective(u_b_x.sum() + v_b_y.sum(), sense = grb.GRB.MINIMIZE)\n",
    "mu_x_y = m.addConstr(U_x_y + V_x_y == phi_x_y )\n",
    "mu_b_x_y = m.addConstr(u_b_x[:,:,None] >= U_x_y[None,:,:] + epsilon_b_x_y )\n",
    "mu_b_x_0 = m.addConstr(u_b_x >= epsilon_b_x_0 )\n",
    "mu_x_b_y = m.addConstr(v_b_y[None,:,:] >= V_x_y[:,None,:] + eta_x_b_y )\n",
    "mu_0_b_y = m.addConstr(v_b_y >= eta_0_b_y)\n"
   ]
  },
  {
   "cell_type": "code",
   "execution_count": 4,
   "metadata": {},
   "outputs": [
    {
     "name": "stdout",
     "output_type": "stream",
     "text": [
      "Gurobi Optimizer version 11.0.2 build v11.0.2rc0 (win64 - Windows 11.0 (22631.2))\n",
      "\n",
      "CPU model: 11th Gen Intel(R) Core(TM) i5-1135G7 @ 2.40GHz, instruction set [SSE2|AVX|AVX2|AVX512]\n",
      "Thread count: 4 physical cores, 8 logical processors, using up to 8 threads\n",
      "\n",
      "Optimize a model with 220100 rows, 20200 columns and 420200 nonzeros\n",
      "Model fingerprint: 0xb70d2100\n",
      "Coefficient statistics:\n",
      "  Matrix range     [1e+00, 1e+00]\n",
      "  Objective range  [1e+00, 1e+00]\n",
      "  Bounds range     [0e+00, 0e+00]\n",
      "  RHS range        [3e-06, 5e+00]\n",
      "Presolve removed 20100 rows and 100 columns\n",
      "Presolve time: 1.77s\n",
      "Presolved: 20100 rows, 220000 columns, 420000 nonzeros\n",
      "\n",
      "Concurrent LP optimizer: dual simplex and barrier\n",
      "Showing barrier log only...\n",
      "\n",
      "Ordering time: 0.16s\n",
      "\n",
      "Barrier statistics:\n",
      " AA' NZ     : 2.000e+05\n",
      " Factor NZ  : 2.256e+05 (roughly 100 MB of memory)\n",
      " Factor Ops : 2.782e+06 (less than 1 second per iteration)\n",
      " Threads    : 3\n",
      "\n",
      "                  Objective                Residual\n",
      "Iter       Primal          Dual         Primal    Dual     Compl     Time\n",
      "   0   1.57067601e+04  4.68971660e+03  2.35e+00 8.59e+01  1.47e+01     3s\n",
      "   1   1.08213756e+04  6.30451339e+04  5.17e-13 3.65e+01  2.82e+00     3s\n",
      "   2   2.13972623e+04  3.55147905e+04  5.11e-13 6.76e+00  7.06e-01     4s\n",
      "   3   3.48264796e+04  3.70621839e+04  4.55e-13 1.23e+00  1.20e-01     4s\n",
      "   4   3.66240910e+04  3.68019166e+04  4.25e-13 1.55e-01  1.15e-02     4s\n",
      "   5   3.67092629e+04  3.67664591e+04  1.05e-12 4.47e-02  3.52e-03     4s\n",
      "   6   3.67306264e+04  3.67579369e+04  2.12e-12 1.93e-02  1.62e-03     4s\n",
      "   7   3.67433444e+04  3.67547626e+04  6.28e-12 9.81e-03  7.33e-04     4s\n",
      "   8   3.67485401e+04  3.67530527e+04  7.61e-12 4.50e-03  3.10e-04     5s\n",
      "   9   3.67504872e+04  3.67520692e+04  3.40e-12 1.41e-03  1.03e-04     5s\n",
      "  10   3.67514679e+04  3.67517170e+04  1.10e-11 3.09e-04  1.92e-05     5s\n",
      "  11   3.67516138e+04  3.67516191e+04  4.64e-12 1.09e-05  5.49e-07     5s\n",
      "  12   3.67516154e+04  3.67516154e+04  2.43e-11 4.26e-14  5.49e-10     5s\n",
      "\n",
      "Barrier solved model in 12 iterations and 5.15 seconds (0.90 work units)\n",
      "Optimal objective 3.67516154e+04\n",
      "\n",
      "Crossover log...\n",
      "\n",
      "     100 DPushes remaining with DInf 0.0000000e+00                 5s\n",
      "\n",
      "Solved with dual simplex\n",
      "Iteration    Objective       Primal Inf.    Dual Inf.      Time\n",
      "    5318    3.6751615e+04   0.000000e+00   0.000000e+00      6s\n",
      "\n",
      "Solved in 5318 iterations and 5.82 seconds (1.03 work units)\n",
      "Optimal objective  3.675161536e+04\n"
     ]
    }
   ],
   "source": [
    "m.optimize()"
   ]
  },
  {
   "cell_type": "code",
   "execution_count": 5,
   "metadata": {},
   "outputs": [
    {
     "data": {
      "text/plain": [
       "array([[ 65., 117., 101.,  98., 125.,  94.,  96.,  56.,  81.,  97.],\n",
       "       [ 98., 117.,  92.,  69.,  83., 140.,  68.,  77., 120.,  57.],\n",
       "       [ 93., 125.,  79.,  82., 112.,  60.,  86., 102., 106., 102.],\n",
       "       [ 66.,  86.,  95.,  91.,  80., 135., 122.,  78.,  90.,  80.],\n",
       "       [ 90.,  75., 125.,  84.,  77., 114.,  84., 122.,  61., 105.],\n",
       "       [ 96.,  75., 129.,  96.,  81.,  49.,  69., 123., 101., 119.],\n",
       "       [119.,  88.,  60.,  81.,  89.,  70., 138., 107., 119.,  82.],\n",
       "       [134.,  74.,  95.,  90., 123.,  98.,  76.,  81.,  83.,  87.],\n",
       "       [ 65.,  77.,  84., 100., 109.,  91.,  93., 102., 120., 110.],\n",
       "       [111., 127.,  63., 139.,  70.,  84., 101., 101.,  62., 108.]])"
      ]
     },
     "execution_count": 5,
     "metadata": {},
     "output_type": "execute_result"
    }
   ],
   "source": [
    "mu_x_y.pi"
   ]
  },
  {
   "cell_type": "code",
   "execution_count": 6,
   "metadata": {},
   "outputs": [
    {
     "name": "stdout",
     "output_type": "stream",
     "text": [
      "73\n",
      "[-2.62078988 -2.61423732 -2.69176877 -2.59720016 -2.64816323 -2.57859434\n",
      " -2.72405068 -2.54628464 -2.70420214 -2.69512981] [-2.649874   -2.71144665 -2.50350564 -2.63653292 -2.69972781 -2.62187785\n",
      " -2.61659659 -2.71313989 -2.66140395 -2.60745609]\n"
     ]
    }
   ],
   "source": [
    "n_x,m_y = np.ones(X),np.ones(Y)\n",
    "a_x,b_y = np.zeros(X),np.zeros(Y)\n",
    "K_x_y = np.exp(phi_x_y / 2)\n",
    "maxIter = 10000\n",
    "eps = 0.2\n",
    "tol = 1e-5\n",
    "for i in range(maxIter):\n",
    "    mu_x_y = K_x_y * np.exp( (a_x[:,None]+b_y[None,:])/2 )\n",
    "    mu_x0 = np.exp(a_x)\n",
    "    mu_0y = np.exp(b_y)\n",
    "    der_x = mu_x0 + mu_x_y.sum( axis = 1) - n_x \n",
    "    der_y = mu_0y + mu_x_y.sum( axis = 0) - m_y\n",
    "    if max(np.max(np.abs(der_x / n_x)),np.max(np.abs(der_y / m_y)))<tol:\n",
    "        break\n",
    "    a_x -= eps * der_x\n",
    "    b_y -= eps * der_y\n",
    "\n",
    "print(i)\n",
    "print(a_x,b_y)"
   ]
  },
  {
   "cell_type": "code",
   "execution_count": 7,
   "metadata": {},
   "outputs": [
    {
     "name": "stdout",
     "output_type": "stream",
     "text": [
      "[-2.62076699 -2.61421618 -2.69173806 -2.59717903 -2.6481351  -2.57857609\n",
      " -2.72401357 -2.54627086 -2.70416671 -2.69509666] [-2.64989955 -2.71146417 -2.50354489 -2.63656053 -2.69974544 -2.62190492\n",
      " -2.61662929 -2.7131581  -2.66142846 -2.60748781]\n"
     ]
    }
   ],
   "source": [
    "A_x,B_y = np.ones(X),np.ones(Y)\n",
    "maxIter = 1000\n",
    "for i in range(maxIter):\n",
    "    halfKB_x = K_x_y @ B_y / 2\n",
    "    A_x = np.sqrt(halfKB_x*halfKB_x + n_x) - halfKB_x\n",
    "    halfAK_y = A_x @ K_x_y / 2\n",
    "    B_y = np.sqrt(halfAK_y*halfAK_y + m_y) - halfAK_y\n",
    "    \n",
    "a_x,b_y = 2*np.log(A_x), 2*np.log(B_y)\n",
    "print(a_x,b_y)"
   ]
  },
  {
   "cell_type": "code",
   "execution_count": 8,
   "metadata": {},
   "outputs": [
    {
     "name": "stdout",
     "output_type": "stream",
     "text": [
      "Requirement already satisfied: gurobipy in c:\\users\\alfre\\anaconda3\\lib\\site-packages (11.0.2)\n"
     ]
    }
   ],
   "source": [
    "!pip install gurobipy --upgrade"
   ]
  },
  {
   "cell_type": "code",
   "execution_count": 9,
   "metadata": {},
   "outputs": [],
   "source": [
    "import gurobipy as grb"
   ]
  },
  {
   "cell_type": "code",
   "execution_count": 10,
   "metadata": {},
   "outputs": [
    {
     "data": {
      "text/plain": [
       "(11, 0, 2)"
      ]
     },
     "execution_count": 10,
     "metadata": {},
     "output_type": "execute_result"
    }
   ],
   "source": [
    "grb.gurobi.version()"
   ]
  },
  {
   "cell_type": "markdown",
   "metadata": {},
   "source": [
    "# Comparing the logit model in closed-form and simulated"
   ]
  },
  {
   "cell_type": "code",
   "execution_count": 11,
   "metadata": {},
   "outputs": [
    {
     "name": "stdout",
     "output_type": "stream",
     "text": [
      "105\n",
      "[-1.54590499 -1.75196975 -1.44910952] [-1.54253516 -1.66437991 -1.52266072]\n",
      "[1.54590499 1.75196975 1.44910952] [1.54253516 1.66437991 1.52266072]\n"
     ]
    }
   ],
   "source": [
    "X=Y=3\n",
    "np.random.seed(7)\n",
    "phi_x_y = np.random.uniform(size = (X,Y))\n",
    "n_x,m_y = np.ones(X),np.ones(Y)\n",
    "a_x,b_y = np.zeros(X),np.zeros(Y)\n",
    "K_x_y = np.exp(phi_x_y / 2)\n",
    "maxIter = 10000\n",
    "eps = 0.2\n",
    "tol = 1e-5\n",
    "for i in range(maxIter):\n",
    "    mu_x_y = K_x_y * np.exp( (a_x[:,None]+b_y[None,:])/2 )\n",
    "    mu_x0 = np.exp(a_x)\n",
    "    mu_0y = np.exp(b_y)\n",
    "    der_x = mu_x0 + mu_x_y.sum( axis = 1) - n_x \n",
    "    der_y = mu_0y + mu_x_y.sum( axis = 0) - m_y\n",
    "    if max(np.max(np.abs(der_x / n_x)),np.max(np.abs(der_y / m_y)))<tol:\n",
    "        break\n",
    "    a_x -= eps * der_x\n",
    "    b_y -= eps * der_y\n",
    "\n",
    "print(i)\n",
    "print(a_x,b_y)\n",
    "u_x = np.log(n_x) - a_x\n",
    "v_y = np.log(m_y) - b_y\n",
    "print(u_x,v_y)"
   ]
  },
  {
   "cell_type": "code",
   "execution_count": 12,
   "metadata": {},
   "outputs": [
    {
     "name": "stdout",
     "output_type": "stream",
     "text": [
      "0.577216\n"
     ]
    }
   ],
   "source": [
    "import math as m\n",
    "EulerMascheroniApp = round( (1.-m.gamma(1+1.e-8))*1.e14 )*1.e-6\n",
    "print(EulerMascheroniApp)"
   ]
  },
  {
   "cell_type": "code",
   "execution_count": 13,
   "metadata": {},
   "outputs": [
    {
     "name": "stdout",
     "output_type": "stream",
     "text": [
      "[1.53954646 1.76952361 1.45232908] [1.54533807 1.65003448 1.50784163]\n"
     ]
    }
   ],
   "source": [
    "B=10000\n",
    "epsilon_b_x_y = - np.log ( (- np.log (np.random.uniform(size= (B,X,Y))))) - EulerMascheroniApp\n",
    "epsilon_b_x_0 = - np.log ( (- np.log (np.random.uniform(size= (B,X)) ))) - EulerMascheroniApp\n",
    "eta_x_b_y =  - np.log ( (- np.log ( np.random.uniform(size= (X,B,Y)) ))) - EulerMascheroniApp\n",
    "eta_0_b_y =  - np.log ( (- np.log ( np.random.uniform(size= (B,Y))))) - EulerMascheroniApp\n",
    "\n",
    "m = grb.Model()\n",
    "m.Params.outputFlag = 0\n",
    "u_b_x = m.addMVar((B,X) , lb = -grb.GRB.INFINITY)\n",
    "v_b_y = m.addMVar((B,Y), lb = -grb.GRB.INFINITY)\n",
    "U_x_y = m.addMVar((X,Y), lb = -grb.GRB.INFINITY)\n",
    "V_x_y = m.addMVar((X,Y), lb = -grb.GRB.INFINITY)\n",
    "m.setObjective(u_b_x.sum() + v_b_y.sum(), sense = grb.GRB.MINIMIZE)\n",
    "mu_x_y = m.addConstr(U_x_y + V_x_y == phi_x_y )\n",
    "mu_b_x_y = m.addConstr(u_b_x[:,:,None] >= U_x_y[None,:,:] + epsilon_b_x_y )\n",
    "mu_b_x_0 = m.addConstr(u_b_x >= epsilon_b_x_0 )\n",
    "mu_x_b_y = m.addConstr(v_b_y[None,:,:] >= V_x_y[:,None,:] + eta_x_b_y )\n",
    "mu_0_b_y = m.addConstr(v_b_y >= eta_0_b_y)\n",
    "m.optimize()\n",
    "\n",
    "u_x = u_b_x.X.sum(axis = 0) / B\n",
    "v_y = v_b_y.X.sum(axis = 0) / B\n",
    "print(u_x,v_y)              "
   ]
  },
  {
   "cell_type": "code",
   "execution_count": 34,
   "metadata": {},
   "outputs": [
    {
     "name": "stdout",
     "output_type": "stream",
     "text": [
      "1714\n",
      "[2.35256996 2.37753728 2.39518984] [1.10527755 1.17339119 1.1370997  1.14609608]\n"
     ]
    }
   ],
   "source": [
    "X,Y=3,4\n",
    "n_x,m_y = np.ones(X),np.ones(Y)\n",
    "np.random.seed(7)\n",
    "phi_x_y = np.random.uniform(size = (X,Y))\n",
    "maxIter = 10000\n",
    "eps = 0.1\n",
    "tol = 1e-8\n",
    "U_x_y = np.zeros((X,Y))\n",
    "for i in range(maxIter):\n",
    "    muX_x_y =  n_x[:,None] * np.exp(U_x_y) / (1+ np.exp(U_x_y).sum(axis = 1))[:,None]\n",
    "    V_x_y = phi_x_y - U_x_y\n",
    "    muY_x_y = m_y[None,:] * np.exp(V_x_y) / (1+ np.exp(V_x_y).sum(axis = 0))[None,:]\n",
    "    grad_x_y = muX_x_y - muY_x_y \n",
    "    if np.max(np.abs(grad_x_y))<tol:\n",
    "        break\n",
    "    U_x_y -= eps * grad_x_y\n",
    "\n",
    "print(i)\n",
    "u_x = np.log (1+ np.exp(U_x_y).sum(axis = 1))\n",
    "v_y = np.log (1+ np.exp(V_x_y).sum(axis = 0))\n",
    "print(u_x,v_y)"
   ]
  },
  {
   "cell_type": "code",
   "execution_count": 30,
   "metadata": {},
   "outputs": [
    {
     "name": "stdout",
     "output_type": "stream",
     "text": [
      "385\n",
      "[2.35257    2.37753733 2.39518989] [1.10527752 1.17339116 1.13709967 1.14609605]\n"
     ]
    }
   ],
   "source": [
    "X,Y=3,4\n",
    "n_x,m_y = np.ones(X),np.ones(Y)\n",
    "np.random.seed(7)\n",
    "phi_x_y = np.random.uniform(size = (X,Y))\n",
    "n_x,m_y = np.ones(X),np.ones(Y)\n",
    "a_x,b_y = np.zeros(X),np.zeros(Y)\n",
    "K_x_y = np.exp(phi_x_y / 2)\n",
    "maxIter = 10000\n",
    "eps = 0.2\n",
    "tol = 1e-8\n",
    "for i in range(maxIter):\n",
    "    mu_x_y = K_x_y * np.exp( (a_x[:,None]+b_y[None,:])/2 )\n",
    "    mu_x0 = np.exp(a_x)\n",
    "    mu_0y = np.exp(b_y)\n",
    "    der_x = mu_x0 + mu_x_y.sum( axis = 1) - n_x \n",
    "    der_y = mu_0y + mu_x_y.sum( axis = 0) - m_y\n",
    "    if max(np.max(np.abs(der_x / n_x)),np.max(np.abs(der_y / m_y)))<tol:\n",
    "        break\n",
    "    a_x -= eps * der_x\n",
    "    b_y -= eps * der_y\n",
    "\n",
    "print(i)\n",
    "#print(a_x,b_y)\n",
    "u_x = np.log(n_x) - a_x\n",
    "v_y = np.log(m_y) - b_y\n",
    "print(u_x,v_y)"
   ]
  },
  {
   "cell_type": "markdown",
   "metadata": {},
   "source": [
    "#  Parametric estimation of the Choo-Siow model"
   ]
  },
  {
   "cell_type": "code",
   "execution_count": 53,
   "metadata": {},
   "outputs": [],
   "source": [
    "import scipy.sparse as sp\n",
    "from sklearn import linear_model\n",
    "clf = linear_model.PoissonRegressor( fit_intercept=False ,alpha = 0)\n",
    "\n",
    "X,Y,K=30,40,9\n",
    "np.random.seed(7)\n",
    "phi_x_y_k = np.random.uniform(size = (X,Y,K))\n",
    "muhat_x_y = np.random.uniform(size = (X,Y))\n",
    "muhat_x0 = np.random.uniform(size = (X))\n",
    "muhat_0y = np.random.uniform(size = (Y))\n",
    "\n",
    "\n",
    "A = X*Y+X+Y\n",
    "w_a = np.array( X*Y*[2]+(X+Y)*[1] )\n",
    "R11 = phi_x_y_k.reshape((-1,K))/ 2\n",
    "R12 = sp.kron(sp.eye(X),np.ones((Y,1))) / 2\n",
    "R13 = sp.kron(np.ones((X,1)),sp.eye(Y) ) / 2\n",
    "R_a_r = sp.bmat( [[R11,  R12,   R13],\n",
    "             [None , sp.eye(X),None],\n",
    "             [None, None , sp.eye(Y)]])\n",
    "muhat_a = np.concatenate( [muhat_x_y.flatten(),muhat_x0,muhat_0y] )\n",
    "\n",
    "\n",
    "clf.fit(R_a_r, muhat_a, sample_weight=w_a )\n",
    "\n",
    "lambda_k,a_x,b_y = clf.coef_[:K],clf.coef_[K:(K+X)],clf.coef_[(K+X):]\n",
    "mupred_x_y = np.exp( (  (phi_x_y_k.reshape( (-1,K)) @ lambda_k).reshape((X,Y))  + a_x[:,None] + b_y[None,:] )/2 )"
   ]
  },
  {
   "cell_type": "code",
   "execution_count": 55,
   "metadata": {},
   "outputs": [
    {
     "name": "stdout",
     "output_type": "stream",
     "text": [
      "[18.81736987 17.93447067 18.77736696 17.33913638 20.948189  ]\n",
      "[18.49852159 17.81547259 18.84292644 17.11113707 20.53590121]\n"
     ]
    }
   ],
   "source": [
    "print(mupred_x_y.sum(axis = 1 )[:5])\n",
    "print(muhat_x_y.sum(axis = 1 )[:5])"
   ]
  },
  {
   "cell_type": "code",
   "execution_count": 56,
   "metadata": {},
   "outputs": [
    {
     "name": "stdout",
     "output_type": "stream",
     "text": [
      "[13.97073989 15.10818863 14.9122898  13.40713563 14.82945182]\n",
      "[13.93637342 15.00026524 14.88717982 13.73307095 14.31040246]\n"
     ]
    }
   ],
   "source": [
    "print(mupred_x_y.sum(axis = 0 )[:5])\n",
    "print(muhat_x_y.sum(axis = 0 )[:5])"
   ]
  },
  {
   "cell_type": "code",
   "execution_count": 57,
   "metadata": {},
   "outputs": [
    {
     "data": {
      "text/plain": [
       "array([289.9141168 , 294.84973467, 285.93049814, 294.0073479 ,\n",
       "       296.90170703, 300.40568371, 296.44361374, 296.32348269,\n",
       "       302.81625256])"
      ]
     },
     "execution_count": 57,
     "metadata": {},
     "output_type": "execute_result"
    }
   ],
   "source": [
    "(mupred_x_y[:,:,None] * phi_x_y_k).sum(axis = (0,1))"
   ]
  },
  {
   "cell_type": "code",
   "execution_count": 58,
   "metadata": {},
   "outputs": [
    {
     "data": {
      "text/plain": [
       "array([289.91883686, 294.75035579, 285.83552398, 293.91134241,\n",
       "       296.84858084, 300.29740981, 296.33699132, 296.24313155,\n",
       "       302.75104074])"
      ]
     },
     "execution_count": 58,
     "metadata": {},
     "output_type": "execute_result"
    }
   ],
   "source": [
    "(muhat_x_y[:,:,None] * phi_x_y_k).sum(axis = (0,1))"
   ]
  },
  {
   "cell_type": "code",
   "execution_count": 59,
   "metadata": {},
   "outputs": [
    {
     "data": {
      "text/plain": [
       "628.8258137198626"
      ]
     },
     "execution_count": 59,
     "metadata": {},
     "output_type": "execute_result"
    }
   ],
   "source": [
    "Nhouseholds = muhat_x_y.sum()+muhat_x0.sum()+muhat_0y.sum()\n",
    "Nhouseholds"
   ]
  },
  {
   "cell_type": "code",
   "execution_count": 60,
   "metadata": {},
   "outputs": [
    {
     "data": {
      "text/plain": [
       "array([[8.29803378e-04, 3.81558040e-04, 3.83812371e-04, 9.53457059e-04,\n",
       "        1.35200991e-03, 1.28982431e-04, 4.99159913e-04, 4.98420110e-04,\n",
       "        3.89227894e-04, 1.09584367e-03, 3.01854503e-04, 9.84989324e-04,\n",
       "        9.53616152e-04, 3.04626024e-04, 4.17604745e-04, 1.01242020e-03,\n",
       "        9.14058767e-04, 2.03052558e-04, 4.57108954e-04, 5.10909229e-04,\n",
       "        9.22766152e-04, 2.29840633e-04, 8.34647929e-04, 7.33490694e-04,\n",
       "        1.27817974e-03, 1.45149722e-03, 9.90105946e-04, 1.04557983e-03,\n",
       "        1.45915773e-04, 5.61975503e-04, 2.92056954e-04, 3.89054218e-05,\n",
       "        2.90721710e-04, 1.00441092e-03, 1.50501779e-03, 1.47078392e-03,\n",
       "        7.19845566e-04, 1.03322573e-03, 1.07701909e-03, 1.21905903e-03],\n",
       "       [4.28164116e-04, 1.58104407e-04, 8.30711027e-04, 1.36667581e-04,\n",
       "        1.46910849e-03, 2.59260468e-04, 7.42445829e-04, 1.53367198e-03,\n",
       "        7.48589731e-04, 3.10133145e-05, 1.07128996e-03, 1.18275134e-03,\n",
       "        2.29845332e-04, 1.17081327e-03, 1.25500394e-03, 2.52950716e-04,\n",
       "        2.23499454e-04, 4.53965201e-04, 8.18031453e-04, 1.31844320e-03,\n",
       "        2.80769724e-07, 8.46918618e-04, 1.06916126e-04, 9.90160681e-04,\n",
       "        1.56388287e-03, 6.92913326e-05, 1.44935204e-03, 9.93178926e-04,\n",
       "        3.52020830e-04, 8.58791592e-04, 1.26158686e-03, 2.71898029e-04,\n",
       "        1.42210204e-03, 9.10474948e-04, 5.59050348e-04, 6.42635793e-05,\n",
       "        9.20139824e-05, 4.25786452e-05, 7.05767134e-04, 1.45647135e-03],\n",
       "       [5.12405074e-04, 9.18477218e-04, 1.12656038e-03, 3.96830012e-04,\n",
       "        1.22109691e-03, 1.24785900e-03, 1.19448545e-03, 1.18997431e-03,\n",
       "        1.05095553e-03, 5.95433956e-04, 1.01352145e-04, 1.54135022e-03,\n",
       "        1.46681254e-03, 2.98408804e-05, 9.22823454e-05, 1.27934576e-03,\n",
       "        3.99210618e-04, 1.04488989e-03, 9.05483818e-04, 3.22269196e-04,\n",
       "        1.12167569e-03, 2.19358631e-04, 5.84303382e-05, 2.91106714e-04,\n",
       "        3.86355143e-04, 6.97938825e-04, 5.19704599e-04, 2.47702636e-04,\n",
       "        1.49275947e-03, 6.96358274e-04, 1.09935419e-03, 1.96326545e-04,\n",
       "        3.60035352e-04, 1.62517898e-04, 7.51103494e-04, 6.17476381e-04,\n",
       "        9.42952124e-04, 4.07176598e-04, 1.51967189e-03, 1.54033588e-03],\n",
       "       [9.94055830e-04, 1.37129508e-03, 8.21770147e-04, 1.10177391e-03,\n",
       "        4.62348334e-04, 1.37005239e-03, 2.31871912e-04, 9.32191495e-04,\n",
       "        1.98853058e-04, 1.54320629e-03, 1.36557976e-03, 5.57583447e-04,\n",
       "        5.59835390e-05, 6.19573927e-04, 1.46817593e-03, 4.51172939e-04,\n",
       "        7.87238776e-05, 1.15107847e-04, 2.59163105e-04, 2.04693742e-05,\n",
       "        5.68781233e-04, 9.76281240e-04, 9.18815235e-05, 4.50998944e-04,\n",
       "        5.37627894e-04, 6.78922536e-05, 1.33051237e-03, 1.00538104e-03,\n",
       "        6.56524130e-04, 5.98900273e-04, 3.50429457e-04, 7.99976006e-04,\n",
       "        2.15553629e-04, 1.01190613e-03, 2.73266649e-04, 6.97024268e-04,\n",
       "        9.03869177e-04, 7.52893589e-04, 1.26255173e-03, 6.40047312e-04],\n",
       "       [1.50468260e-03, 5.86607504e-04, 1.03621811e-03, 2.17696009e-04,\n",
       "        7.12478634e-04, 7.77348203e-04, 7.84297259e-04, 6.72292236e-04,\n",
       "        2.75562958e-04, 1.10714357e-03, 2.61198840e-04, 1.45105415e-03,\n",
       "        5.42656268e-04, 3.63543018e-04, 6.56493987e-04, 9.02125848e-04,\n",
       "        2.66869842e-04, 1.57572696e-03, 1.30830457e-03, 1.05818394e-03,\n",
       "        5.90860134e-04, 5.10204054e-04, 4.10628476e-05, 1.54797512e-03,\n",
       "        2.67439254e-04, 4.45924554e-04, 7.51337091e-04, 1.46771294e-03,\n",
       "        1.02437503e-03, 1.29171213e-04, 5.58695267e-04, 1.30333573e-03,\n",
       "        1.14338283e-03, 3.77757171e-04, 9.65238704e-04, 9.85165188e-04,\n",
       "        5.38687716e-04, 1.44003854e-03, 1.16161896e-03, 1.34706847e-03]])"
      ]
     },
     "execution_count": 60,
     "metadata": {},
     "output_type": "execute_result"
    }
   ],
   "source": [
    "(muhat_x_y / Nhouseholds )[:5]"
   ]
  }
 ],
 "metadata": {
  "colab": {
   "provenance": []
  },
  "kernelspec": {
   "display_name": "Python 3 (ipykernel)",
   "language": "python",
   "name": "python3"
  },
  "language_info": {
   "codemirror_mode": {
    "name": "ipython",
    "version": 3
   },
   "file_extension": ".py",
   "mimetype": "text/x-python",
   "name": "python",
   "nbconvert_exporter": "python",
   "pygments_lexer": "ipython3",
   "version": "3.11.4"
  }
 },
 "nbformat": 4,
 "nbformat_minor": 1
}
