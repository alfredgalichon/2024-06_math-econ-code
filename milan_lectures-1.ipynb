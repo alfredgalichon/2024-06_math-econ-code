{
  "nbformat": 4,
  "nbformat_minor": 0,
  "metadata": {
    "colab": {
      "provenance": []
    },
    "kernelspec": {
      "name": "python3",
      "display_name": "Python 3"
    },
    "language_info": {
      "name": "python"
    }
  },
  "cells": [
    {
      "cell_type": "code",
      "execution_count": null,
      "metadata": {
        "id": "Z4QbgZbrCCvx"
      },
      "outputs": [],
      "source": [
        "import numpy as np``"
      ]
    },
    {
      "cell_type": "code",
      "source": [
        "nbx = 3\n",
        "nby = 2"
      ],
      "metadata": {
        "id": "X7F2hSOZH4Pu"
      },
      "execution_count": null,
      "outputs": []
    },
    {
      "cell_type": "code",
      "source": [
        "n_x = np.array([2,2,1])\n",
        "m_y = np.array([3,2])"
      ],
      "metadata": {
        "id": "ZTIs-4bfH75p"
      },
      "execution_count": null,
      "outputs": []
    },
    {
      "cell_type": "code",
      "source": [
        "alpha_x_y = np.array([[-2,-1],\n",
        "                      [-3,-2],\n",
        "                      [-1,-1]])\n",
        "\n",
        "gamma_x_y = np.array([[10,8],\n",
        "                      [7,12],\n",
        "                      [15,9]])"
      ],
      "metadata": {
        "id": "AWxkKFxAHwpj"
      },
      "execution_count": null,
      "outputs": []
    },
    {
      "cell_type": "code",
      "source": [
        "phi_x_y = alpha_x_y + gamma_x_y\n",
        "phi_x_y"
      ],
      "metadata": {
        "colab": {
          "base_uri": "https://localhost:8080/"
        },
        "id": "0EYWdsRgIa80",
        "outputId": "1e59dce4-3a6e-4b71-c1ce-00e6eb425560"
      },
      "execution_count": null,
      "outputs": [
        {
          "output_type": "execute_result",
          "data": {
            "text/plain": [
              "array([[ 8,  7],\n",
              "       [ 4, 10],\n",
              "       [14,  8]])"
            ]
          },
          "metadata": {},
          "execution_count": 16
        }
      ]
    },
    {
      "cell_type": "code",
      "source": [
        "pip install gurobipy"
      ],
      "metadata": {
        "colab": {
          "base_uri": "https://localhost:8080/"
        },
        "id": "8S9Ujk20I8rT",
        "outputId": "703d9536-5a47-429b-bbc8-53912d6d49d1"
      },
      "execution_count": null,
      "outputs": [
        {
          "output_type": "stream",
          "name": "stdout",
          "text": [
            "Collecting gurobipy\n",
            "  Downloading gurobipy-10.0.3-cp310-cp310-manylinux2014_x86_64.whl (12.7 MB)\n",
            "\u001b[2K     \u001b[90m━━━━━━━━━━━━━━━━━━━━━━━━━━━━━━━━━━━━━━━━\u001b[0m \u001b[32m12.7/12.7 MB\u001b[0m \u001b[31m90.9 MB/s\u001b[0m eta \u001b[36m0:00:00\u001b[0m\n",
            "\u001b[?25hInstalling collected packages: gurobipy\n",
            "Successfully installed gurobipy-10.0.3\n"
          ]
        }
      ]
    },
    {
      "cell_type": "code",
      "source": [
        "import gurobipy as grb"
      ],
      "metadata": {
        "id": "qhvfuujJJN-Q"
      },
      "execution_count": null,
      "outputs": []
    },
    {
      "cell_type": "code",
      "source": [
        "A1 = np.kron(np.eye(nbx),np.ones((1,nby)))\n",
        "A1"
      ],
      "metadata": {
        "colab": {
          "base_uri": "https://localhost:8080/"
        },
        "id": "_5p1v43_NBOK",
        "outputId": "bf76b506-c30a-4f29-a58b-5508c5ed4c22"
      },
      "execution_count": null,
      "outputs": [
        {
          "output_type": "execute_result",
          "data": {
            "text/plain": [
              "array([[1., 1., 0., 0., 0., 0.],\n",
              "       [0., 0., 1., 1., 0., 0.],\n",
              "       [0., 0., 0., 0., 1., 1.]])"
            ]
          },
          "metadata": {},
          "execution_count": 11
        }
      ]
    },
    {
      "cell_type": "code",
      "source": [
        "A2=np.kron(np.ones((1,nbx)), np.eye(nby))\n",
        "A2"
      ],
      "metadata": {
        "colab": {
          "base_uri": "https://localhost:8080/"
        },
        "id": "3SSkRyY7NQKw",
        "outputId": "cdec5581-c3c1-4c85-dd3f-28558a50c372"
      },
      "execution_count": null,
      "outputs": [
        {
          "output_type": "execute_result",
          "data": {
            "text/plain": [
              "array([[1., 0., 1., 0., 1., 0.],\n",
              "       [0., 1., 0., 1., 0., 1.]])"
            ]
          },
          "metadata": {},
          "execution_count": 12
        }
      ]
    },
    {
      "cell_type": "code",
      "source": [
        "phi_x_y"
      ],
      "metadata": {
        "colab": {
          "base_uri": "https://localhost:8080/"
        },
        "id": "4xA_jE34Ow50",
        "outputId": "d75b370e-2a5c-45c7-e2f4-332809285407"
      },
      "execution_count": null,
      "outputs": [
        {
          "output_type": "execute_result",
          "data": {
            "text/plain": [
              "array([[ 8,  7],\n",
              "       [ 4, 10],\n",
              "       [14,  8]])"
            ]
          },
          "metadata": {},
          "execution_count": 16
        }
      ]
    },
    {
      "cell_type": "code",
      "source": [
        "phi_x_y.flatten()"
      ],
      "metadata": {
        "colab": {
          "base_uri": "https://localhost:8080/"
        },
        "id": "mJwNHLedOnqr",
        "outputId": "901d4ada-ba66-48c7-a5cd-ced67d8e432b"
      },
      "execution_count": null,
      "outputs": [
        {
          "output_type": "execute_result",
          "data": {
            "text/plain": [
              "array([ 8,  7,  4, 10, 14,  8])"
            ]
          },
          "metadata": {},
          "execution_count": 15
        }
      ]
    },
    {
      "cell_type": "code",
      "source": [
        "m = grb.Model()"
      ],
      "metadata": {
        "id": "p280BVHOO4C2"
      },
      "execution_count": null,
      "outputs": []
    },
    {
      "cell_type": "code",
      "source": [
        "mug_xy = m.addMVar(nbx*nby)"
      ],
      "metadata": {
        "id": "zmrwKylKPTw-"
      },
      "execution_count": null,
      "outputs": []
    },
    {
      "cell_type": "code",
      "source": [
        "m.setObjective(mug_xy @ phi_x_y.flatten() , sense = grb.GRB.MAXIMIZE )"
      ],
      "metadata": {
        "id": "TGDn2jWrPtxX"
      },
      "execution_count": null,
      "outputs": []
    },
    {
      "cell_type": "code",
      "source": [
        "constr1 = m.addConstr( A1 @ mug_xy == n_x )"
      ],
      "metadata": {
        "id": "CqWJFC5kQdgB"
      },
      "execution_count": null,
      "outputs": []
    },
    {
      "cell_type": "code",
      "source": [
        "constr2 = m.addConstr( A2 @ mug_xy == m_y)"
      ],
      "metadata": {
        "id": "6sJJW7foQ3VQ"
      },
      "execution_count": null,
      "outputs": []
    },
    {
      "cell_type": "code",
      "source": [
        "m.optimize()"
      ],
      "metadata": {
        "colab": {
          "base_uri": "https://localhost:8080/"
        },
        "id": "0hny5HYzQ-Ft",
        "outputId": "0e5f9708-41ab-4060-9cac-bc0c029163c2"
      },
      "execution_count": null,
      "outputs": [
        {
          "output_type": "stream",
          "name": "stdout",
          "text": [
            "Gurobi Optimizer version 10.0.3 build v10.0.3rc0 (linux64)\n",
            "\n",
            "CPU model: Intel(R) Xeon(R) CPU @ 2.20GHz, instruction set [SSE2|AVX|AVX2]\n",
            "Thread count: 1 physical cores, 2 logical processors, using up to 2 threads\n",
            "\n",
            "Optimize a model with 5 rows, 6 columns and 12 nonzeros\n",
            "Model fingerprint: 0x9e0271c4\n",
            "Coefficient statistics:\n",
            "  Matrix range     [1e+00, 1e+00]\n",
            "  Objective range  [4e+00, 1e+01]\n",
            "  Bounds range     [0e+00, 0e+00]\n",
            "  RHS range        [1e+00, 3e+00]\n",
            "Presolve removed 5 rows and 6 columns\n",
            "Presolve time: 0.01s\n",
            "Presolve: All rows and columns removed\n",
            "Iteration    Objective       Primal Inf.    Dual Inf.      Time\n",
            "       0    5.0000000e+01   0.000000e+00   0.000000e+00      0s\n",
            "\n",
            "Solved in 0 iterations and 0.02 seconds (0.00 work units)\n",
            "Optimal objective  5.000000000e+01\n"
          ]
        }
      ]
    },
    {
      "cell_type": "code",
      "source": [
        "mug_xy.X"
      ],
      "metadata": {
        "colab": {
          "base_uri": "https://localhost:8080/"
        },
        "id": "-gKRdk1pRKoL",
        "outputId": "684d2eb2-9e60-4a4f-bc3e-776a332f55b6"
      },
      "execution_count": null,
      "outputs": [
        {
          "output_type": "execute_result",
          "data": {
            "text/plain": [
              "array([2., 0., 0., 2., 1., 0.])"
            ]
          },
          "metadata": {},
          "execution_count": 37
        }
      ]
    },
    {
      "cell_type": "code",
      "source": [
        "muopt_x_y = mug_xy.X.reshape((nbx,-1))\n",
        "muopt_x_y"
      ],
      "metadata": {
        "colab": {
          "base_uri": "https://localhost:8080/"
        },
        "id": "CfDU_6kIRXOY",
        "outputId": "39256c23-6e35-4019-f40e-d3d97b1ec5fa"
      },
      "execution_count": null,
      "outputs": [
        {
          "output_type": "execute_result",
          "data": {
            "text/plain": [
              "array([[2., 0.],\n",
              "       [0., 2.],\n",
              "       [1., 0.]])"
            ]
          },
          "metadata": {},
          "execution_count": 38
        }
      ]
    },
    {
      "cell_type": "code",
      "source": [
        "u_x = constr1.pi\n",
        "u_x"
      ],
      "metadata": {
        "colab": {
          "base_uri": "https://localhost:8080/"
        },
        "id": "2z7z73QZSmjq",
        "outputId": "71051736-cc8d-47d8-fb1f-7eae1fbdae1b"
      },
      "execution_count": null,
      "outputs": [
        {
          "output_type": "execute_result",
          "data": {
            "text/plain": [
              "array([ 8., 10., 14.])"
            ]
          },
          "metadata": {},
          "execution_count": 48
        }
      ]
    },
    {
      "cell_type": "code",
      "source": [
        "v_y = constr2.pi\n",
        "v_y"
      ],
      "metadata": {
        "colab": {
          "base_uri": "https://localhost:8080/"
        },
        "id": "gq-SBq3HStUp",
        "outputId": "8811dfa5-4398-4e2c-f3bb-a19c1e9dbe2d"
      },
      "execution_count": null,
      "outputs": [
        {
          "output_type": "execute_result",
          "data": {
            "text/plain": [
              "array([0., 0.])"
            ]
          },
          "metadata": {},
          "execution_count": 49
        }
      ]
    },
    {
      "cell_type": "code",
      "source": [
        "wlow_x_y = gamma_x_y - v_y[None,:]\n",
        "wlow_x_y"
      ],
      "metadata": {
        "colab": {
          "base_uri": "https://localhost:8080/"
        },
        "id": "64YgvTOWfHDr",
        "outputId": "199c32a4-7fc0-40db-e265-5b134167592e"
      },
      "execution_count": null,
      "outputs": [
        {
          "output_type": "execute_result",
          "data": {
            "text/plain": [
              "array([[10.,  8.],\n",
              "       [ 7., 12.],\n",
              "       [15.,  9.]])"
            ]
          },
          "metadata": {},
          "execution_count": 52
        }
      ]
    },
    {
      "cell_type": "code",
      "source": [
        "wup_x_y = u_x[:,None] - alpha_x_y\n",
        "wup_x_y"
      ],
      "metadata": {
        "colab": {
          "base_uri": "https://localhost:8080/"
        },
        "id": "rGzDysKWfkbx",
        "outputId": "38a1c517-3de3-47bc-9389-a4992c7972a9"
      },
      "execution_count": null,
      "outputs": [
        {
          "output_type": "execute_result",
          "data": {
            "text/plain": [
              "array([[10.,  9.],\n",
              "       [13., 12.],\n",
              "       [15., 15.]])"
            ]
          },
          "metadata": {},
          "execution_count": 54
        }
      ]
    },
    {
      "cell_type": "code",
      "source": [
        "wup_x_y- wlow_x_y"
      ],
      "metadata": {
        "colab": {
          "base_uri": "https://localhost:8080/"
        },
        "id": "AB2Oin2Pfx01",
        "outputId": "651369cf-7981-480c-ead7-cf28bdf85f97"
      },
      "execution_count": null,
      "outputs": [
        {
          "output_type": "execute_result",
          "data": {
            "text/plain": [
              "array([[0., 1.],\n",
              "       [6., 0.],\n",
              "       [0., 6.]])"
            ]
          },
          "metadata": {},
          "execution_count": 55
        }
      ]
    },
    {
      "cell_type": "markdown",
      "source": [
        "Let's define $w_x_y$ as the middle point between these:"
      ],
      "metadata": {
        "id": "PExZLV4lgIQ9"
      }
    },
    {
      "cell_type": "code",
      "source": [
        "weq_x_y =(wup_x_y + wlow_x_y) / 2\n",
        "weq_x_y"
      ],
      "metadata": {
        "colab": {
          "base_uri": "https://localhost:8080/"
        },
        "id": "FH0SKxjXgHHv",
        "outputId": "ece2add4-053b-41df-f63d-ef3c72ded7c7"
      },
      "execution_count": null,
      "outputs": [
        {
          "output_type": "execute_result",
          "data": {
            "text/plain": [
              "array([[10. ,  8.5],\n",
              "       [10. , 12. ],\n",
              "       [15. , 12. ]])"
            ]
          },
          "metadata": {},
          "execution_count": 57
        }
      ]
    },
    {
      "cell_type": "code",
      "source": [
        "ueq_x = (alpha_x_y + weq_x_y).max(axis = 1)\n",
        "ueq_x"
      ],
      "metadata": {
        "colab": {
          "base_uri": "https://localhost:8080/"
        },
        "id": "Spspz2fsg62Q",
        "outputId": "0741f521-d927-4946-f187-1b11f9f4863d"
      },
      "execution_count": null,
      "outputs": [
        {
          "output_type": "execute_result",
          "data": {
            "text/plain": [
              "array([ 8., 10., 14.])"
            ]
          },
          "metadata": {},
          "execution_count": 58
        }
      ]
    },
    {
      "cell_type": "code",
      "source": [
        "veq_y = (gamma_x_y - weq_x_y).max(axis = 0)\n",
        "veq_y"
      ],
      "metadata": {
        "colab": {
          "base_uri": "https://localhost:8080/"
        },
        "id": "S7qwHhE1hT-r",
        "outputId": "165d7086-ec12-49a1-af30-51fe5d99f4c1"
      },
      "execution_count": null,
      "outputs": [
        {
          "output_type": "execute_result",
          "data": {
            "text/plain": [
              "array([0., 0.])"
            ]
          },
          "metadata": {},
          "execution_count": 59
        }
      ]
    },
    {
      "cell_type": "code",
      "source": [
        "ueq_x[:,None] == (alpha_x_y + weq_x_y)"
      ],
      "metadata": {
        "colab": {
          "base_uri": "https://localhost:8080/"
        },
        "id": "IiEDsOvuhdDk",
        "outputId": "a39919ad-4e10-48ca-b940-0cee27080be4"
      },
      "execution_count": null,
      "outputs": [
        {
          "output_type": "execute_result",
          "data": {
            "text/plain": [
              "array([[ True, False],\n",
              "       [False,  True],\n",
              "       [ True, False]])"
            ]
          },
          "metadata": {},
          "execution_count": 60
        }
      ]
    },
    {
      "cell_type": "code",
      "source": [
        "pip install pysdot"
      ],
      "metadata": {
        "colab": {
          "base_uri": "https://localhost:8080/"
        },
        "id": "gpdhEZEKkQM5",
        "outputId": "a4e22fef-30a7-4888-da75-f4473406e7f9"
      },
      "execution_count": null,
      "outputs": [
        {
          "output_type": "stream",
          "name": "stdout",
          "text": [
            "Collecting pysdot\n",
            "  Downloading pysdot-0.2.16-cp310-cp310-manylinux_2_17_x86_64.manylinux2014_x86_64.whl (17.5 MB)\n",
            "\u001b[2K     \u001b[90m━━━━━━━━━━━━━━━━━━━━━━━━━━━━━━━━━━━━━━━━\u001b[0m \u001b[32m17.5/17.5 MB\u001b[0m \u001b[31m12.4 MB/s\u001b[0m eta \u001b[36m0:00:00\u001b[0m\n",
            "\u001b[?25hRequirement already satisfied: numpy in /usr/local/lib/python3.10/dist-packages (from pysdot) (1.23.5)\n",
            "Installing collected packages: pysdot\n",
            "Successfully installed pysdot-0.2.16\n"
          ]
        }
      ]
    },
    {
      "cell_type": "code",
      "source": [
        "from pysdot import PowerDiagram\n",
        "from pysdot.radial_funcs import RadialFuncUnit\n",
        "from pysdot import OptimalTransport\n",
        "from pysdot.domain_types import ConvexPolyhedraAssembly\n",
        "import numpy as np\n",
        "import random as rd"
      ],
      "metadata": {
        "id": "XFdwfdldolbQ"
      },
      "execution_count": null,
      "outputs": []
    },
    {
      "cell_type": "code",
      "source": [
        "rd.seed(777)\n",
        "nCells = 10\n",
        "\n",
        "Ys = np.random.uniform(0,1,2*nCells).reshape((-1,2))\n",
        "vor_dia = PowerDiagram(Ys)\n",
        "vor_dia.display_jupyter()"
      ],
      "metadata": {
        "colab": {
          "base_uri": "https://localhost:8080/",
          "height": 421
        },
        "id": "letmgrp-orPq",
        "outputId": "a81faec9-127a-4cae-b1e8-cfc2bc0ba7ef"
      },
      "execution_count": null,
      "outputs": [
        {
          "output_type": "execute_result",
          "data": {
            "text/plain": [
              "<IPython.core.display.Javascript object>"
            ],
            "application/javascript": [
              "\n",
              "(function() {\n",
              "// geometry\n",
              "\n",
              "var pd_list = [];\n",
              "        (function() {\n",
              "var diracs = [\n",
              "    [0.573619, 0.319083],\n",
              "    [0.850122, 0.998021],\n",
              "    [0.415161, 0.969015],\n",
              "    [0.749551, 0.892989],\n",
              "    [0.181997, 0.0960488],\n",
              "    [0.840654, 0.0821274],\n",
              "    [0.351723, 0.457433],\n",
              "    [0.164608, 0.0724285],\n",
              "    [0.38849, 0.794434],\n",
              "    [0.0522949, 0.730352],\n",
              "];\n",
              "var centroids = [\n",
              "    [0.633763, 0.339947],\n",
              "    [0.914308, 0.917948],\n",
              "    [0.391606, 0.943514],\n",
              "    [0.781508, 0.754878],\n",
              "    [0.224179, 0.176775],\n",
              "    [0.842803, 0.176341],\n",
              "    [0.311648, 0.45827],\n",
              "    [0.0959089, 0.0706075],\n",
              "    [0.406742, 0.751288],\n",
              "    [0.0973124, 0.728358],\n",
              "];\n",
              "var path_int = new Path2D();\n",
              "\n",
              "path_int.moveTo(0,0.2118225774487587);\n",
              "path_int.lineTo(0.2877267270200412,0);\n",
              "path_int.moveTo(0.4960194916463205,0);\n",
              "path_int.lineTo(0.364538231587079,0.2308656688331375);\n",
              "path_int.moveTo(0.364538231587079,0.2308656688331375);\n",
              "path_int.lineTo(0.0190278688835635,0.3931371744173922);\n",
              "path_int.moveTo(0.0190278688835635,0.3931371744173922);\n",
              "path_int.lineTo(0,0.3892463712432462);\n",
              "\n",
              "path_int.moveTo(0.01902786888356356,0.3931371744173922);\n",
              "path_int.lineTo(0.364538231587079,0.2308656688331375);\n",
              "path_int.moveTo(0.364538231587079,0.2308656688331375);\n",
              "path_int.lineTo(0.59552623818487,0.6013405552696065);\n",
              "path_int.moveTo(0.59552623818487,0.6013405552696065);\n",
              "path_int.lineTo(0.2437758452030874,0.6397160120387352);\n",
              "path_int.moveTo(0.2437758452030874,0.6397160120387352);\n",
              "path_int.lineTo(0.01902786888356356,0.3931371744173922);\n",
              "\n",
              "path_int.moveTo(0.2877267270200413,0);\n",
              "path_int.lineTo(0,0.2118225774487587);\n",
              "\n",
              "path_int.moveTo(0.364538231587079,0.2308656688331375);\n",
              "path_int.lineTo(0.4960194916463205,0);\n",
              "path_int.moveTo(0.5291273978978155,0);\n",
              "path_int.lineTo(0.9802224761273066,0.5083570705223717);\n",
              "path_int.moveTo(0.9802224761273066,0.5083570705223717);\n",
              "path_int.lineTo(0.6313680063159341,0.6152994077712304);\n",
              "path_int.moveTo(0.6313680063159341,0.6152994077712304);\n",
              "path_int.lineTo(0.59552623818487,0.6013405552696066);\n",
              "path_int.moveTo(0.59552623818487,0.6013405552696066);\n",
              "path_int.lineTo(0.364538231587079,0.2308656688331375);\n",
              "\n",
              "path_int.moveTo(1,0.51057912381989);\n",
              "path_int.lineTo(0.9802224761273066,0.5083570705223717);\n",
              "path_int.moveTo(0.9802224761273066,0.5083570705223717);\n",
              "path_int.lineTo(0.5291273978978155,0);\n",
              "\n",
              "path_int.moveTo(0.2437758452030873,0.6397160120387353);\n",
              "path_int.lineTo(0.5955262381848702,0.6013405552696066);\n",
              "path_int.moveTo(0.5955262381848702,0.6013405552696066);\n",
              "path_int.lineTo(0.6313680063159341,0.6152994077712303);\n",
              "path_int.moveTo(0.6313680063159341,0.6152994077712303);\n",
              "path_int.lineTo(0.5654687501937808,0.8567238789001941);\n",
              "path_int.moveTo(0.5654687501937808,0.8567238789001941);\n",
              "path_int.lineTo(0.1915223207983572,0.9138535403824167);\n",
              "path_int.moveTo(0.1915223207983572,0.9138535403824167);\n",
              "path_int.lineTo(0.2437758452030873,0.6397160120387353);\n",
              "\n",
              "path_int.moveTo(0,0.3892463712432462);\n",
              "path_int.lineTo(0.01902786888356366,0.3931371744173923);\n",
              "path_int.moveTo(0.01902786888356366,0.3931371744173923);\n",
              "path_int.lineTo(0.2437758452030874,0.6397160120387352);\n",
              "path_int.moveTo(0.2437758452030874,0.6397160120387352);\n",
              "path_int.lineTo(0.1915223207983572,0.9138535403824166);\n",
              "path_int.moveTo(0.1915223207983572,0.9138535403824166);\n",
              "path_int.lineTo(0.13486235471108,1);\n",
              "\n",
              "path_int.moveTo(0.1915223207983571,0.9138535403824167);\n",
              "path_int.lineTo(0.565468750193781,0.8567238789001941);\n",
              "path_int.moveTo(0.565468750193781,0.8567238789001941);\n",
              "path_int.lineTo(0.5980434384637916,1);\n",
              "path_int.moveTo(0.13486235471108,1);\n",
              "path_int.lineTo(0.1915223207983571,0.9138535403824167);\n",
              "\n",
              "path_int.moveTo(0.6313680063159341,0.6152994077712304);\n",
              "path_int.lineTo(0.9802224761273067,0.5083570705223717);\n",
              "path_int.moveTo(0.9802224761273067,0.5083570705223717);\n",
              "path_int.lineTo(1,0.51057912381989);\n",
              "path_int.moveTo(1,0.7538432958876773);\n",
              "path_int.lineTo(0.742924872512889,1);\n",
              "path_int.moveTo(0.5980434384637916,1);\n",
              "path_int.lineTo(0.565468750193781,0.8567238789001941);\n",
              "path_int.moveTo(0.565468750193781,0.8567238789001941);\n",
              "path_int.lineTo(0.6313680063159341,0.6152994077712304);\n",
              "\n",
              "path_int.moveTo(0.742924872512889,1);\n",
              "path_int.lineTo(1,0.7538432958876773);\n",
              "var path_ext = new Path2D();\n",
              "\n",
              "path_ext.moveTo(0.2877267270200412,0);\n",
              "path_ext.lineTo(0.4960194916463205,0);\n",
              "path_ext.moveTo(0,0.3892463712432462);\n",
              "path_ext.lineTo(0,0.2118225774487587);\n",
              "\n",
              "\n",
              "path_ext.moveTo(0,0);\n",
              "path_ext.lineTo(0.2877267270200413,0);\n",
              "path_ext.moveTo(0,0.2118225774487587);\n",
              "path_ext.lineTo(0,0);\n",
              "\n",
              "path_ext.moveTo(0.4960194916463205,0);\n",
              "path_ext.lineTo(0.5291273978978155,0);\n",
              "\n",
              "path_ext.moveTo(0.5291273978978155,0);\n",
              "path_ext.lineTo(1,0);\n",
              "path_ext.moveTo(1,0);\n",
              "path_ext.lineTo(1,0.51057912381989);\n",
              "\n",
              "\n",
              "path_ext.moveTo(0.13486235471108,1);\n",
              "path_ext.lineTo(0,1);\n",
              "path_ext.moveTo(0,1);\n",
              "path_ext.lineTo(0,0.3892463712432462);\n",
              "\n",
              "path_ext.moveTo(0.5980434384637916,1);\n",
              "path_ext.lineTo(0.13486235471108,1);\n",
              "\n",
              "path_ext.moveTo(1,0.51057912381989);\n",
              "path_ext.lineTo(1,0.7538432958876773);\n",
              "path_ext.moveTo(0.742924872512889,1);\n",
              "path_ext.lineTo(0.5980434384637916,1);\n",
              "\n",
              "path_ext.moveTo(1,0.7538432958876773);\n",
              "path_ext.lineTo(1,1);\n",
              "path_ext.moveTo(1,1);\n",
              "path_ext.lineTo(0.742924872512889,1);\n",
              "var min_x = 0;\n",
              "var min_y = 0;\n",
              "var max_x = 1;\n",
              "var max_y = 1;\n",
              "pd_list.push({ path_int, path_ext, min_x, min_y, max_x, max_y, diracs, centroids });\n",
              "})();\n",
              "\n",
              "\n",
              "// limits\n",
              "var min_x = pd_list[ 0 ].min_x;\n",
              "var min_y = pd_list[ 0 ].min_y;\n",
              "var max_x = pd_list[ 0 ].max_x;\n",
              "var max_y = pd_list[ 0 ].max_y;\n",
              "for( var p of pd_list ) {\n",
              "    min_x = Math.min( min_x, p.min_x );\n",
              "    min_y = Math.min( min_y, p.min_y );\n",
              "    max_x = Math.max( max_x, p.max_x );\n",
              "    max_y = Math.max( max_y, p.max_y );\n",
              "}\n",
              "\n",
              "// display parameters\n",
              "var disp_centroids = 1, disp_positions = 1, disp_ids = 1, disp_arrows = 0;\n",
              "var cr = 0.52 * Math.max( max_x - min_x, max_y - min_y );\n",
              "var cx = 0.5 * ( max_x + min_x );\n",
              "var cy = 0.5 * ( max_y + min_y );\n",
              "var orig_click_x = 0;\n",
              "var orig_click_y = 0;\n",
              "var pos_click_x = 0;\n",
              "var pos_click_y = 0;\n",
              "var cur_pd = 0;\n",
              "\n",
              "// canvas\n",
              "var canvas = document.createElement( \"canvas\" );\n",
              "canvas.style.overflow = \"hidden\";\n",
              "// canvas.style.width = 940;\n",
              "canvas.height = 400;\n",
              "canvas.width = 940;\n",
              "\n",
              "if ( typeof element != \"undefined\" ) {\n",
              "    element.append( canvas );\n",
              "} else {\n",
              "    var oa = document.querySelector( \"#output-area\" );\n",
              "    oa.removeChild( oa.lastChild );\n",
              "    oa.appendChild( canvas );\n",
              "}\n",
              "\n",
              "function draw() {\n",
              "    var w = canvas.width, h = canvas.height;\n",
              "    var m = 0.5 * Math.min( w, h );\n",
              "    var s = m / cr;\n",
              "\n",
              "    var ctx = canvas.getContext( '2d' );\n",
              "\n",
              "    ctx.setTransform( 1, 0, 0, 1, 0, 0 );\n",
              "    ctx.clearRect( 0, 0, w, h );\n",
              "\n",
              "    var pd = pd_list[ cur_pd % pd_list.length ];\n",
              "\n",
              "    if ( disp_ids || disp_centroids ) {\n",
              "        ctx.lineWidth = 1;\n",
              "        ctx.font = '16px serif';\n",
              "        ctx.strokeStyle = \"#FF0000\";\n",
              "        for( var i = 0; i < pd.centroids.length; ++i ) {\n",
              "            var px = ( pd.centroids[ i ][ 0 ] - cx ) * s + 0.5 * w;\n",
              "            var py = ( pd.centroids[ i ][ 1 ] - cy ) * s + 0.5 * h;\n",
              "            if ( disp_ids ) {\n",
              "                ctx.fillText( String( i ), px + 5, py );\n",
              "            }\n",
              "\n",
              "            if ( disp_centroids ) {\n",
              "                ctx.beginPath();\n",
              "                ctx.arc( px, py, 2, 0, 2 * Math.PI, true );\n",
              "                ctx.stroke();\n",
              "            }\n",
              "        }\n",
              "    }\n",
              "\n",
              "    ctx.translate( 0.5 * w, 0.5 * h );\n",
              "    ctx.scale( s, s );\n",
              "    ctx.translate( - cx, - cy );\n",
              "\n",
              "    var c = 1.0 / s;\n",
              "    ctx.lineWidth = c;\n",
              "    ctx.strokeStyle = \"#000000\";\n",
              "    ctx.stroke( pd.path_int );\n",
              "    ctx.strokeStyle = \"rgb(0,0,0,0.2)\";\n",
              "    ctx.stroke( pd.path_ext );\n",
              "\n",
              "    ctx.strokeStyle = \"#0000FF\";\n",
              "    if ( disp_positions ) {\n",
              "        for( var i = 0; i < pd.diracs.length; ++i ) {\n",
              "            ctx.beginPath();\n",
              "            ctx.moveTo( pd.diracs[ i ][ 0 ] - 4 * c, pd.diracs[ i ][ 1 ] );\n",
              "            ctx.lineTo( pd.diracs[ i ][ 0 ] + 4 * c, pd.diracs[ i ][ 1 ] );\n",
              "            ctx.stroke();\n",
              "\n",
              "            ctx.beginPath();\n",
              "            ctx.moveTo( pd.diracs[ i ][ 0 ], pd.diracs[ i ][ 1 ] - 4 * c );\n",
              "            ctx.lineTo( pd.diracs[ i ][ 0 ], pd.diracs[ i ][ 1 ] + 4 * c );\n",
              "            ctx.stroke();\n",
              "        }\n",
              "    }\n",
              "\n",
              "    ctx.strokeStyle = \"#0000FF\";\n",
              "    if ( disp_arrows ) {\n",
              "        for( var i = 0; i < pd.diracs.length; ++i ) {\n",
              "            ctx.beginPath();\n",
              "            ctx.moveTo( pd.centroids[ i ][ 0 ], pd.centroids[ i ][ 1 ] );\n",
              "            ctx.lineTo( pd.diracs[ i ][ 0 ], pd.diracs[ i ][ 1 ] );\n",
              "            ctx.stroke();\n",
              "        }\n",
              "    }\n",
              "\n",
              "    if ( pd_list.length > 1 && cur_pd + 1 == pd_list.length ) {\n",
              "        ctx.setTransform( 1, 0, 0, 1, 0, 0 );\n",
              "        ctx.font = '16px serif';\n",
              "        ctx.strokeStyle = \"#FF0000\";\n",
              "        ctx.fillText( \"left click to replay the animation\", 10, h - 5 );\n",
              "    }\n",
              "}\n",
              "\n",
              "function next_frame() {\n",
              "    if ( cur_pd + 1 < pd_list.length ) {\n",
              "        setTimeout( next_frame, 50 );\n",
              "        cur_pd += 1;\n",
              "        draw();\n",
              "    }\n",
              "}\n",
              "\n",
              "canvas.addEventListener( \"wheel\", function( e ) {  \n",
              "    if ( e.shiftKey ) {\n",
              "        var w = canvas.width, h = canvas.height;\n",
              "        var r = canvas.getBoundingClientRect();\n",
              "        var m = 0.5 * Math.min( w, h );\n",
              "        var s = m / cr;\n",
              "\n",
              "        var d = Math.pow( 2, ( - e.wheelDeltaY / 200.0 || e.deltaY / 5.0 ) );\n",
              "        cx -= ( e.x - r.x - 0.5 * w ) * ( d - 1 ) / s;\n",
              "        cy -= ( e.y - r.y - 0.5 * h ) * ( d - 1 ) / s;\n",
              "        cr *= d;\n",
              "\n",
              "        draw();\n",
              "        return false;\n",
              "    }\n",
              "}, false );\n",
              "\n",
              "canvas.addEventListener( \"mousedown\", function( e ) {  \n",
              "    orig_click_x = e.x;\n",
              "    orig_click_y = e.y;\n",
              "    pos_click_x = e.x;\n",
              "    pos_click_y = e.y;\n",
              "} );\n",
              "\n",
              "canvas.addEventListener( \"mousemove\", function( e ) {  \n",
              "    if ( e.buttons == 1 || e.buttons == 4 ) {\n",
              "        var w = canvas.width, h = canvas.height;\n",
              "        var m = 0.5 * Math.min( w, h );\n",
              "        var s = m / cr;\n",
              "\n",
              "        cx -= ( e.x - pos_click_x ) / s;\n",
              "        cy -= ( e.y - pos_click_y ) / s;\n",
              "        pos_click_x = e.x;\n",
              "        pos_click_y = e.y;\n",
              "\n",
              "        draw();\n",
              "    }\n",
              "} );\n",
              "\n",
              "canvas.addEventListener( \"mouseup\", function( e ) {  \n",
              "    if ( pd_list.length > 1 && orig_click_x === e.x && orig_click_y == e.y ) {\n",
              "        setTimeout( next_frame, 50 );\n",
              "        cur_pd = 0;\n",
              "        draw();\n",
              "    }\n",
              "} );\n",
              "\n",
              "if ( pd_list.length > 1 ) {\n",
              "    setTimeout( next_frame, 50 );\n",
              "}\n",
              "draw();\n",
              "})();\n",
              "        "
            ]
          },
          "metadata": {},
          "execution_count": 6
        }
      ]
    },
    {
      "cell_type": "code",
      "source": [
        "rel_tol = 1e-3\n",
        "q_j = np.ones(nCells)/nCells\n",
        "vtilde_j = np.zeros(nCells)\n",
        "cont = True\n",
        "pow_dia = PowerDiagram(Ys,vtilde_j)\n",
        "while cont:\n",
        "    demand_j = pow_dia.integrals()\n",
        "    if ((demand_j - q_j)/q_j).max()<rel_tol:\n",
        "        cont=False\n",
        "    else:\n",
        "        vtilde_j = vtilde_j - 0.05 * (demand_j - q_j)\n",
        "        pow_dia.set_weights(vtilde_j)\n",
        "\n",
        "pow_dia.display_jupyter()"
      ],
      "metadata": {
        "colab": {
          "base_uri": "https://localhost:8080/",
          "height": 421
        },
        "id": "DhxIQEnpsHRi",
        "outputId": "8cefe54b-1e6a-4e44-ab6f-f3abe972fcee"
      },
      "execution_count": null,
      "outputs": [
        {
          "output_type": "execute_result",
          "data": {
            "text/plain": [
              "<IPython.core.display.Javascript object>"
            ],
            "application/javascript": [
              "\n",
              "(function() {\n",
              "// geometry\n",
              "\n",
              "var pd_list = [];\n",
              "        (function() {\n",
              "var diracs = [\n",
              "    [0.573619, 0.319083],\n",
              "    [0.850122, 0.998021],\n",
              "    [0.415161, 0.969015],\n",
              "    [0.749551, 0.892989],\n",
              "    [0.181997, 0.0960488],\n",
              "    [0.840654, 0.0821274],\n",
              "    [0.351723, 0.457433],\n",
              "    [0.164608, 0.0724285],\n",
              "    [0.38849, 0.794434],\n",
              "    [0.0522949, 0.730352],\n",
              "];\n",
              "var centroids = [\n",
              "    [0.699296, 0.312758],\n",
              "    [0.854541, 0.846745],\n",
              "    [0.384895, 0.901191],\n",
              "    [0.779081, 0.628463],\n",
              "    [0.34087, 0.226603],\n",
              "    [0.859393, 0.158504],\n",
              "    [0.400407, 0.43735],\n",
              "    [0.173803, 0.127953],\n",
              "    [0.415392, 0.669036],\n",
              "    [0.0924524, 0.693153],\n",
              "];\n",
              "var path_int = new Path2D();\n",
              "\n",
              "path_int.moveTo(0,0.3838583359250833);\n",
              "path_int.lineTo(0.5214094926297526,0);\n",
              "path_int.moveTo(0.6178654526295413,0);\n",
              "path_int.lineTo(0.6189393072823788,0.05080664272029983);\n",
              "path_int.moveTo(0.6189393072823788,0.05080664272029983);\n",
              "path_int.lineTo(0.503966709295833,0.2526850375553337);\n",
              "path_int.moveTo(0.503966709295833,0.2526850375553337);\n",
              "path_int.lineTo(0.1124351319986917,0.4365707480580441);\n",
              "path_int.moveTo(0.1124351319986917,0.4365707480580441);\n",
              "path_int.lineTo(0,0.4135801035910792);\n",
              "\n",
              "path_int.moveTo(0.1124351319986915,0.4365707480580442);\n",
              "path_int.lineTo(0.5039667092958329,0.2526850375553338);\n",
              "path_int.moveTo(0.5039667092958329,0.2526850375553338);\n",
              "path_int.lineTo(0.6676046100400573,0.5151390653113295);\n",
              "path_int.moveTo(0.6676046100400573,0.5151390653113295);\n",
              "path_int.lineTo(0.6589956197947695,0.523002334758862);\n",
              "path_int.moveTo(0.6589956197947695,0.523002334758862);\n",
              "path_int.lineTo(0.2335232580079932,0.5694207512041084);\n",
              "path_int.moveTo(0.2335232580079932,0.5694207512041084);\n",
              "path_int.lineTo(0.1124351319986915,0.4365707480580442);\n",
              "\n",
              "path_int.moveTo(0.5214094926297524,0);\n",
              "path_int.lineTo(0,0.3838583359250832);\n",
              "\n",
              "path_int.moveTo(0.6189393072823787,0.05080664272029961);\n",
              "path_int.lineTo(0.9532632057702438,0.4275696043291297);\n",
              "path_int.moveTo(0.9532632057702438,0.4275696043291297);\n",
              "path_int.lineTo(0.6676046100400573,0.5151390653113295);\n",
              "path_int.moveTo(0.6676046100400573,0.5151390653113295);\n",
              "path_int.lineTo(0.5039667092958328,0.2526850375553336);\n",
              "path_int.moveTo(0.5039667092958328,0.2526850375553336);\n",
              "path_int.lineTo(0.6189393072823787,0.05080664272029961);\n",
              "\n",
              "path_int.moveTo(1,0.4328205977498508);\n",
              "path_int.lineTo(0.9532632057702437,0.4275696043291296);\n",
              "path_int.moveTo(0.9532632057702437,0.4275696043291296);\n",
              "path_int.lineTo(0.6189393072823788,0.05080664272029979);\n",
              "path_int.moveTo(0.6189393072823788,0.05080664272029979);\n",
              "path_int.lineTo(0.6178654526295413,0);\n",
              "\n",
              "path_int.moveTo(0.2335232580079932,0.5694207512041085);\n",
              "path_int.lineTo(0.6589956197947695,0.5230023347588619);\n",
              "path_int.moveTo(0.6589956197947695,0.5230023347588619);\n",
              "path_int.lineTo(0.5937565499747283,0.7620081878606579);\n",
              "path_int.moveTo(0.5937565499747283,0.7620081878606579);\n",
              "path_int.lineTo(0.1849081632770874,0.8244699954713149);\n",
              "path_int.moveTo(0.1849081632770874,0.8244699954713149);\n",
              "path_int.lineTo(0.2335232580079932,0.5694207512041085);\n",
              "\n",
              "path_int.moveTo(0,0.4135801035910792);\n",
              "path_int.lineTo(0.1124351319986916,0.4365707480580442);\n",
              "path_int.moveTo(0.1124351319986916,0.4365707480580442);\n",
              "path_int.lineTo(0.2335232580079932,0.5694207512041085);\n",
              "path_int.moveTo(0.2335232580079932,0.5694207512041085);\n",
              "path_int.lineTo(0.1849081632770874,0.8244699954713148);\n",
              "path_int.moveTo(0.1849081632770874,0.8244699954713148);\n",
              "path_int.lineTo(0.06945914600992927,1);\n",
              "\n",
              "path_int.moveTo(0.1849081632770874,0.8244699954713149);\n",
              "path_int.lineTo(0.5937565499747282,0.7620081878606579);\n",
              "path_int.moveTo(0.5937565499747282,0.7620081878606579);\n",
              "path_int.lineTo(0.6275727764358638,0.9107450757603542);\n",
              "path_int.moveTo(0.6275727764358638,0.9107450757603542);\n",
              "path_int.lineTo(0.6216206579341413,1);\n",
              "path_int.moveTo(0.0694591460099292,1);\n",
              "path_int.lineTo(0.1849081632770874,0.8244699954713149);\n",
              "\n",
              "path_int.moveTo(0.6676046100400571,0.5151390653113295);\n",
              "path_int.lineTo(0.9532632057702439,0.4275696043291296);\n",
              "path_int.moveTo(0.9532632057702439,0.4275696043291296);\n",
              "path_int.lineTo(1,0.4328205977498507);\n",
              "path_int.moveTo(1,0.5541354777398406);\n",
              "path_int.lineTo(0.6275727764358637,0.910745075760354);\n",
              "path_int.moveTo(0.6275727764358637,0.910745075760354);\n",
              "path_int.lineTo(0.5937565499747283,0.762008187860658);\n",
              "path_int.moveTo(0.5937565499747283,0.762008187860658);\n",
              "path_int.lineTo(0.6589956197947695,0.5230023347588618);\n",
              "path_int.moveTo(0.6589956197947695,0.5230023347588618);\n",
              "path_int.lineTo(0.6676046100400571,0.5151390653113295);\n",
              "\n",
              "path_int.moveTo(0.6216206579341412,1);\n",
              "path_int.lineTo(0.6275727764358638,0.9107450757603539);\n",
              "path_int.moveTo(0.6275727764358638,0.9107450757603539);\n",
              "path_int.lineTo(1,0.5541354777398405);\n",
              "var path_ext = new Path2D();\n",
              "\n",
              "path_ext.moveTo(0.5214094926297526,0);\n",
              "path_ext.lineTo(0.6178654526295413,0);\n",
              "path_ext.moveTo(0,0.4135801035910792);\n",
              "path_ext.lineTo(0,0.3838583359250833);\n",
              "\n",
              "\n",
              "path_ext.moveTo(0,0);\n",
              "path_ext.lineTo(0.5214094926297524,0);\n",
              "path_ext.moveTo(0,0.3838583359250832);\n",
              "path_ext.lineTo(0,0);\n",
              "\n",
              "\n",
              "path_ext.moveTo(0.6178654526295413,0);\n",
              "path_ext.lineTo(1,0);\n",
              "path_ext.moveTo(1,0);\n",
              "path_ext.lineTo(1,0.4328205977498508);\n",
              "\n",
              "\n",
              "path_ext.moveTo(0.06945914600992927,1);\n",
              "path_ext.lineTo(0,1);\n",
              "path_ext.moveTo(0,1);\n",
              "path_ext.lineTo(0,0.4135801035910792);\n",
              "\n",
              "path_ext.moveTo(0.6216206579341413,1);\n",
              "path_ext.lineTo(0.0694591460099292,1);\n",
              "\n",
              "path_ext.moveTo(1,0.4328205977498507);\n",
              "path_ext.lineTo(1,0.5541354777398406);\n",
              "\n",
              "path_ext.moveTo(1,0.5541354777398405);\n",
              "path_ext.lineTo(1,1);\n",
              "path_ext.moveTo(1,1);\n",
              "path_ext.lineTo(0.6216206579341412,1);\n",
              "var min_x = 0;\n",
              "var min_y = 0;\n",
              "var max_x = 1;\n",
              "var max_y = 1;\n",
              "pd_list.push({ path_int, path_ext, min_x, min_y, max_x, max_y, diracs, centroids });\n",
              "})();\n",
              "\n",
              "\n",
              "// limits\n",
              "var min_x = pd_list[ 0 ].min_x;\n",
              "var min_y = pd_list[ 0 ].min_y;\n",
              "var max_x = pd_list[ 0 ].max_x;\n",
              "var max_y = pd_list[ 0 ].max_y;\n",
              "for( var p of pd_list ) {\n",
              "    min_x = Math.min( min_x, p.min_x );\n",
              "    min_y = Math.min( min_y, p.min_y );\n",
              "    max_x = Math.max( max_x, p.max_x );\n",
              "    max_y = Math.max( max_y, p.max_y );\n",
              "}\n",
              "\n",
              "// display parameters\n",
              "var disp_centroids = 1, disp_positions = 1, disp_ids = 1, disp_arrows = 0;\n",
              "var cr = 0.52 * Math.max( max_x - min_x, max_y - min_y );\n",
              "var cx = 0.5 * ( max_x + min_x );\n",
              "var cy = 0.5 * ( max_y + min_y );\n",
              "var orig_click_x = 0;\n",
              "var orig_click_y = 0;\n",
              "var pos_click_x = 0;\n",
              "var pos_click_y = 0;\n",
              "var cur_pd = 0;\n",
              "\n",
              "// canvas\n",
              "var canvas = document.createElement( \"canvas\" );\n",
              "canvas.style.overflow = \"hidden\";\n",
              "// canvas.style.width = 940;\n",
              "canvas.height = 400;\n",
              "canvas.width = 940;\n",
              "\n",
              "if ( typeof element != \"undefined\" ) {\n",
              "    element.append( canvas );\n",
              "} else {\n",
              "    var oa = document.querySelector( \"#output-area\" );\n",
              "    oa.removeChild( oa.lastChild );\n",
              "    oa.appendChild( canvas );\n",
              "}\n",
              "\n",
              "function draw() {\n",
              "    var w = canvas.width, h = canvas.height;\n",
              "    var m = 0.5 * Math.min( w, h );\n",
              "    var s = m / cr;\n",
              "\n",
              "    var ctx = canvas.getContext( '2d' );\n",
              "\n",
              "    ctx.setTransform( 1, 0, 0, 1, 0, 0 );\n",
              "    ctx.clearRect( 0, 0, w, h );\n",
              "\n",
              "    var pd = pd_list[ cur_pd % pd_list.length ];\n",
              "\n",
              "    if ( disp_ids || disp_centroids ) {\n",
              "        ctx.lineWidth = 1;\n",
              "        ctx.font = '16px serif';\n",
              "        ctx.strokeStyle = \"#FF0000\";\n",
              "        for( var i = 0; i < pd.centroids.length; ++i ) {\n",
              "            var px = ( pd.centroids[ i ][ 0 ] - cx ) * s + 0.5 * w;\n",
              "            var py = ( pd.centroids[ i ][ 1 ] - cy ) * s + 0.5 * h;\n",
              "            if ( disp_ids ) {\n",
              "                ctx.fillText( String( i ), px + 5, py );\n",
              "            }\n",
              "\n",
              "            if ( disp_centroids ) {\n",
              "                ctx.beginPath();\n",
              "                ctx.arc( px, py, 2, 0, 2 * Math.PI, true );\n",
              "                ctx.stroke();\n",
              "            }\n",
              "        }\n",
              "    }\n",
              "\n",
              "    ctx.translate( 0.5 * w, 0.5 * h );\n",
              "    ctx.scale( s, s );\n",
              "    ctx.translate( - cx, - cy );\n",
              "\n",
              "    var c = 1.0 / s;\n",
              "    ctx.lineWidth = c;\n",
              "    ctx.strokeStyle = \"#000000\";\n",
              "    ctx.stroke( pd.path_int );\n",
              "    ctx.strokeStyle = \"rgb(0,0,0,0.2)\";\n",
              "    ctx.stroke( pd.path_ext );\n",
              "\n",
              "    ctx.strokeStyle = \"#0000FF\";\n",
              "    if ( disp_positions ) {\n",
              "        for( var i = 0; i < pd.diracs.length; ++i ) {\n",
              "            ctx.beginPath();\n",
              "            ctx.moveTo( pd.diracs[ i ][ 0 ] - 4 * c, pd.diracs[ i ][ 1 ] );\n",
              "            ctx.lineTo( pd.diracs[ i ][ 0 ] + 4 * c, pd.diracs[ i ][ 1 ] );\n",
              "            ctx.stroke();\n",
              "\n",
              "            ctx.beginPath();\n",
              "            ctx.moveTo( pd.diracs[ i ][ 0 ], pd.diracs[ i ][ 1 ] - 4 * c );\n",
              "            ctx.lineTo( pd.diracs[ i ][ 0 ], pd.diracs[ i ][ 1 ] + 4 * c );\n",
              "            ctx.stroke();\n",
              "        }\n",
              "    }\n",
              "\n",
              "    ctx.strokeStyle = \"#0000FF\";\n",
              "    if ( disp_arrows ) {\n",
              "        for( var i = 0; i < pd.diracs.length; ++i ) {\n",
              "            ctx.beginPath();\n",
              "            ctx.moveTo( pd.centroids[ i ][ 0 ], pd.centroids[ i ][ 1 ] );\n",
              "            ctx.lineTo( pd.diracs[ i ][ 0 ], pd.diracs[ i ][ 1 ] );\n",
              "            ctx.stroke();\n",
              "        }\n",
              "    }\n",
              "\n",
              "    if ( pd_list.length > 1 && cur_pd + 1 == pd_list.length ) {\n",
              "        ctx.setTransform( 1, 0, 0, 1, 0, 0 );\n",
              "        ctx.font = '16px serif';\n",
              "        ctx.strokeStyle = \"#FF0000\";\n",
              "        ctx.fillText( \"left click to replay the animation\", 10, h - 5 );\n",
              "    }\n",
              "}\n",
              "\n",
              "function next_frame() {\n",
              "    if ( cur_pd + 1 < pd_list.length ) {\n",
              "        setTimeout( next_frame, 50 );\n",
              "        cur_pd += 1;\n",
              "        draw();\n",
              "    }\n",
              "}\n",
              "\n",
              "canvas.addEventListener( \"wheel\", function( e ) {  \n",
              "    if ( e.shiftKey ) {\n",
              "        var w = canvas.width, h = canvas.height;\n",
              "        var r = canvas.getBoundingClientRect();\n",
              "        var m = 0.5 * Math.min( w, h );\n",
              "        var s = m / cr;\n",
              "\n",
              "        var d = Math.pow( 2, ( - e.wheelDeltaY / 200.0 || e.deltaY / 5.0 ) );\n",
              "        cx -= ( e.x - r.x - 0.5 * w ) * ( d - 1 ) / s;\n",
              "        cy -= ( e.y - r.y - 0.5 * h ) * ( d - 1 ) / s;\n",
              "        cr *= d;\n",
              "\n",
              "        draw();\n",
              "        return false;\n",
              "    }\n",
              "}, false );\n",
              "\n",
              "canvas.addEventListener( \"mousedown\", function( e ) {  \n",
              "    orig_click_x = e.x;\n",
              "    orig_click_y = e.y;\n",
              "    pos_click_x = e.x;\n",
              "    pos_click_y = e.y;\n",
              "} );\n",
              "\n",
              "canvas.addEventListener( \"mousemove\", function( e ) {  \n",
              "    if ( e.buttons == 1 || e.buttons == 4 ) {\n",
              "        var w = canvas.width, h = canvas.height;\n",
              "        var m = 0.5 * Math.min( w, h );\n",
              "        var s = m / cr;\n",
              "\n",
              "        cx -= ( e.x - pos_click_x ) / s;\n",
              "        cy -= ( e.y - pos_click_y ) / s;\n",
              "        pos_click_x = e.x;\n",
              "        pos_click_y = e.y;\n",
              "\n",
              "        draw();\n",
              "    }\n",
              "} );\n",
              "\n",
              "canvas.addEventListener( \"mouseup\", function( e ) {  \n",
              "    if ( pd_list.length > 1 && orig_click_x === e.x && orig_click_y == e.y ) {\n",
              "        setTimeout( next_frame, 50 );\n",
              "        cur_pd = 0;\n",
              "        draw();\n",
              "    }\n",
              "} );\n",
              "\n",
              "if ( pd_list.length > 1 ) {\n",
              "    setTimeout( next_frame, 50 );\n",
              "}\n",
              "draw();\n",
              "})();\n",
              "        "
            ]
          },
          "metadata": {},
          "execution_count": 12
        }
      ]
    },
    {
      "cell_type": "code",
      "source": [
        "def make_square(box=[0, 0, 1, 1]):\n",
        "    density = ConvexPolyhedraAssembly()\n",
        "    density.add_box([box[0], box[1]], [box[2], box[3]])\n",
        "    return density\n",
        "\n",
        "dens = make_square()\n",
        "\n",
        "def optimal_transport(density, Y, masses, psi0 = None, err=1e-8):\n",
        "    center = (density.min_position() + density.max_position())/2\n",
        "    halfsides = (density.max_position() - density.min_position())/2\n",
        "    ratio = 1/np.max(np.abs((Y-center)/halfsides))\n",
        "    psi = (1-ratio)*np.sum((Y-center)**2, axis=-1)\n",
        "    ot = OptimalTransport(Y, psi, density, radial_func=RadialFuncUnit(), obj_max_dw=err)\n",
        "    ot.set_masses(masses)\n",
        "    ot.adjust_weights()\n",
        "    return ot.pd\n",
        "\n",
        "pow_dia2 = optimal_transport(dens, Ys, q_j)\n",
        "vtilde_j2 = pow_dia2.weights\n",
        "pow_dia2.display_jupyter()"
      ],
      "metadata": {
        "colab": {
          "base_uri": "https://localhost:8080/",
          "height": 421
        },
        "id": "zOnV6M6IEGyK",
        "outputId": "6c090b32-032f-4f49-e830-ced7ce69c522"
      },
      "execution_count": null,
      "outputs": [
        {
          "output_type": "execute_result",
          "data": {
            "text/plain": [
              "<IPython.core.display.Javascript object>"
            ],
            "application/javascript": [
              "\n",
              "(function() {\n",
              "// geometry\n",
              "\n",
              "var pd_list = [];\n",
              "        (function() {\n",
              "var diracs = [\n",
              "    [0.573619, 0.319083],\n",
              "    [0.850122, 0.998021],\n",
              "    [0.415161, 0.969015],\n",
              "    [0.749551, 0.892989],\n",
              "    [0.181997, 0.0960488],\n",
              "    [0.840654, 0.0821274],\n",
              "    [0.351723, 0.457433],\n",
              "    [0.164608, 0.0724285],\n",
              "    [0.38849, 0.794434],\n",
              "    [0.0522949, 0.730352],\n",
              "];\n",
              "var centroids = [\n",
              "    [0.699299, 0.312466],\n",
              "    [0.85449, 0.846663],\n",
              "    [0.384811, 0.901125],\n",
              "    [0.779053, 0.628213],\n",
              "    [0.340893, 0.226413],\n",
              "    [0.859441, 0.158399],\n",
              "    [0.400453, 0.437058],\n",
              "    [0.173739, 0.127906],\n",
              "    [0.415366, 0.668808],\n",
              "    [0.0924547, 0.692949],\n",
              "];\n",
              "var path_int = new Path2D();\n",
              "\n",
              "path_int.moveTo(0,0.3837169812704128);\n",
              "path_int.lineTo(0.5212174851835809,0);\n",
              "path_int.moveTo(0.6178974194373407,0);\n",
              "path_int.lineTo(0.6189666737129148,0.05058898782316637);\n",
              "path_int.moveTo(0.6189666737129148,0.05058898782316637);\n",
              "path_int.lineTo(0.504025191549559,0.2524127469228199);\n",
              "path_int.moveTo(0.504025191549559,0.2524127469228199);\n",
              "path_int.lineTo(0.1124902842698374,0.4363000213765582);\n",
              "path_int.moveTo(0.1124902842698374,0.4363000213765582);\n",
              "path_int.lineTo(0,0.4132980994179861);\n",
              "\n",
              "path_int.moveTo(0.1124902842698375,0.4363000213765582);\n",
              "path_int.lineTo(0.5040251915495589,0.25241274692282);\n",
              "path_int.moveTo(0.5040251915495589,0.25241274692282);\n",
              "path_int.lineTo(0.6676153054392095,0.5147901307448636);\n",
              "path_int.moveTo(0.6676153054392095,0.5147901307448636);\n",
              "path_int.lineTo(0.658956356419809,0.5226990314791002);\n",
              "path_int.moveTo(0.658956356419809,0.5226990314791002);\n",
              "path_int.lineTo(0.2335428639179359,0.5691110253709029);\n",
              "path_int.moveTo(0.2335428639179359,0.5691110253709029);\n",
              "path_int.lineTo(0.1124902842698375,0.4363000213765582);\n",
              "\n",
              "path_int.moveTo(0.5212174851835808,0);\n",
              "path_int.lineTo(0,0.3837169812704128);\n",
              "\n",
              "path_int.moveTo(0.6189666737129147,0.05058898782316626);\n",
              "path_int.lineTo(0.9531954268194147,0.4272447262994932);\n",
              "path_int.moveTo(0.9531954268194147,0.4272447262994932);\n",
              "path_int.lineTo(0.6676153054392095,0.5147901307448636);\n",
              "path_int.moveTo(0.6676153054392095,0.5147901307448636);\n",
              "path_int.lineTo(0.5040251915495589,0.25241274692282);\n",
              "path_int.moveTo(0.5040251915495589,0.25241274692282);\n",
              "path_int.lineTo(0.6189666737129147,0.05058898782316626);\n",
              "\n",
              "path_int.moveTo(1,0.43250333485152);\n",
              "path_int.lineTo(0.9531954268194147,0.4272447262994931);\n",
              "path_int.moveTo(0.9531954268194147,0.4272447262994931);\n",
              "path_int.lineTo(0.6189666737129149,0.05058898782316641);\n",
              "path_int.moveTo(0.6189666737129149,0.05058898782316641);\n",
              "path_int.lineTo(0.6178974194373408,0);\n",
              "\n",
              "path_int.moveTo(0.2335428639179359,0.5691110253709029);\n",
              "path_int.lineTo(0.658956356419809,0.5226990314791002);\n",
              "path_int.moveTo(0.658956356419809,0.5226990314791002);\n",
              "path_int.lineTo(0.5936728906159157,0.761867530983185);\n",
              "path_int.moveTo(0.5936728906159157,0.761867530983185);\n",
              "path_int.lineTo(0.184897673588424,0.8243181600983203);\n",
              "path_int.moveTo(0.184897673588424,0.8243181600983203);\n",
              "path_int.lineTo(0.2335428639179359,0.5691110253709029);\n",
              "\n",
              "path_int.moveTo(0,0.4132980994179861);\n",
              "path_int.lineTo(0.1124902842698375,0.4363000213765582);\n",
              "path_int.moveTo(0.1124902842698375,0.4363000213765582);\n",
              "path_int.lineTo(0.2335428639179359,0.5691110253709029);\n",
              "path_int.moveTo(0.2335428639179359,0.5691110253709029);\n",
              "path_int.lineTo(0.184897673588424,0.8243181600983202);\n",
              "path_int.moveTo(0.184897673588424,0.8243181600983202);\n",
              "path_int.lineTo(0.06934879165912047,1);\n",
              "\n",
              "path_int.moveTo(0.184897673588424,0.8243181600983202);\n",
              "path_int.lineTo(0.5936728906159157,0.761867530983185);\n",
              "path_int.moveTo(0.5936728906159157,0.761867530983185);\n",
              "path_int.lineTo(0.6274903919742852,0.9106100263756982);\n",
              "path_int.moveTo(0.6274903919742852,0.9106100263756982);\n",
              "path_int.lineTo(0.6215292674715167,1);\n",
              "path_int.moveTo(0.06934879165912045,1);\n",
              "path_int.lineTo(0.184897673588424,0.8243181600983202);\n",
              "\n",
              "path_int.moveTo(0.6676153054392094,0.5147901307448637);\n",
              "path_int.lineTo(0.9531954268194146,0.4272447262994931);\n",
              "path_int.moveTo(0.9531954268194146,0.4272447262994931);\n",
              "path_int.lineTo(1,0.4325033348515199);\n",
              "path_int.moveTo(1,0.5539215429035643);\n",
              "path_int.lineTo(0.6274903919742852,0.9106100263756984);\n",
              "path_int.moveTo(0.6274903919742852,0.9106100263756984);\n",
              "path_int.lineTo(0.5936728906159155,0.761867530983185);\n",
              "path_int.moveTo(0.5936728906159155,0.761867530983185);\n",
              "path_int.lineTo(0.658956356419809,0.5226990314791004);\n",
              "path_int.moveTo(0.658956356419809,0.5226990314791004);\n",
              "path_int.lineTo(0.6676153054392094,0.5147901307448637);\n",
              "\n",
              "path_int.moveTo(0.6215292674715167,1);\n",
              "path_int.lineTo(0.6274903919742852,0.9106100263756984);\n",
              "path_int.moveTo(0.6274903919742852,0.9106100263756984);\n",
              "path_int.lineTo(1,0.5539215429035643);\n",
              "var path_ext = new Path2D();\n",
              "\n",
              "path_ext.moveTo(0.5212174851835809,0);\n",
              "path_ext.lineTo(0.6178974194373407,0);\n",
              "path_ext.moveTo(0,0.4132980994179861);\n",
              "path_ext.lineTo(0,0.3837169812704128);\n",
              "\n",
              "\n",
              "path_ext.moveTo(0,0);\n",
              "path_ext.lineTo(0.5212174851835808,0);\n",
              "path_ext.moveTo(0,0.3837169812704128);\n",
              "path_ext.lineTo(0,0);\n",
              "\n",
              "\n",
              "path_ext.moveTo(0.6178974194373408,0);\n",
              "path_ext.lineTo(1,0);\n",
              "path_ext.moveTo(1,0);\n",
              "path_ext.lineTo(1,0.43250333485152);\n",
              "\n",
              "\n",
              "path_ext.moveTo(0.06934879165912047,1);\n",
              "path_ext.lineTo(0,1);\n",
              "path_ext.moveTo(0,1);\n",
              "path_ext.lineTo(0,0.4132980994179861);\n",
              "\n",
              "path_ext.moveTo(0.6215292674715167,1);\n",
              "path_ext.lineTo(0.06934879165912045,1);\n",
              "\n",
              "path_ext.moveTo(1,0.4325033348515199);\n",
              "path_ext.lineTo(1,0.5539215429035643);\n",
              "\n",
              "path_ext.moveTo(1,0.5539215429035643);\n",
              "path_ext.lineTo(1,1);\n",
              "path_ext.moveTo(1,1);\n",
              "path_ext.lineTo(0.6215292674715167,1);\n",
              "var min_x = 0;\n",
              "var min_y = 0;\n",
              "var max_x = 1;\n",
              "var max_y = 1;\n",
              "pd_list.push({ path_int, path_ext, min_x, min_y, max_x, max_y, diracs, centroids });\n",
              "})();\n",
              "\n",
              "\n",
              "// limits\n",
              "var min_x = pd_list[ 0 ].min_x;\n",
              "var min_y = pd_list[ 0 ].min_y;\n",
              "var max_x = pd_list[ 0 ].max_x;\n",
              "var max_y = pd_list[ 0 ].max_y;\n",
              "for( var p of pd_list ) {\n",
              "    min_x = Math.min( min_x, p.min_x );\n",
              "    min_y = Math.min( min_y, p.min_y );\n",
              "    max_x = Math.max( max_x, p.max_x );\n",
              "    max_y = Math.max( max_y, p.max_y );\n",
              "}\n",
              "\n",
              "// display parameters\n",
              "var disp_centroids = 1, disp_positions = 1, disp_ids = 1, disp_arrows = 0;\n",
              "var cr = 0.52 * Math.max( max_x - min_x, max_y - min_y );\n",
              "var cx = 0.5 * ( max_x + min_x );\n",
              "var cy = 0.5 * ( max_y + min_y );\n",
              "var orig_click_x = 0;\n",
              "var orig_click_y = 0;\n",
              "var pos_click_x = 0;\n",
              "var pos_click_y = 0;\n",
              "var cur_pd = 0;\n",
              "\n",
              "// canvas\n",
              "var canvas = document.createElement( \"canvas\" );\n",
              "canvas.style.overflow = \"hidden\";\n",
              "// canvas.style.width = 940;\n",
              "canvas.height = 400;\n",
              "canvas.width = 940;\n",
              "\n",
              "if ( typeof element != \"undefined\" ) {\n",
              "    element.append( canvas );\n",
              "} else {\n",
              "    var oa = document.querySelector( \"#output-area\" );\n",
              "    oa.removeChild( oa.lastChild );\n",
              "    oa.appendChild( canvas );\n",
              "}\n",
              "\n",
              "function draw() {\n",
              "    var w = canvas.width, h = canvas.height;\n",
              "    var m = 0.5 * Math.min( w, h );\n",
              "    var s = m / cr;\n",
              "\n",
              "    var ctx = canvas.getContext( '2d' );\n",
              "\n",
              "    ctx.setTransform( 1, 0, 0, 1, 0, 0 );\n",
              "    ctx.clearRect( 0, 0, w, h );\n",
              "\n",
              "    var pd = pd_list[ cur_pd % pd_list.length ];\n",
              "\n",
              "    if ( disp_ids || disp_centroids ) {\n",
              "        ctx.lineWidth = 1;\n",
              "        ctx.font = '16px serif';\n",
              "        ctx.strokeStyle = \"#FF0000\";\n",
              "        for( var i = 0; i < pd.centroids.length; ++i ) {\n",
              "            var px = ( pd.centroids[ i ][ 0 ] - cx ) * s + 0.5 * w;\n",
              "            var py = ( pd.centroids[ i ][ 1 ] - cy ) * s + 0.5 * h;\n",
              "            if ( disp_ids ) {\n",
              "                ctx.fillText( String( i ), px + 5, py );\n",
              "            }\n",
              "\n",
              "            if ( disp_centroids ) {\n",
              "                ctx.beginPath();\n",
              "                ctx.arc( px, py, 2, 0, 2 * Math.PI, true );\n",
              "                ctx.stroke();\n",
              "            }\n",
              "        }\n",
              "    }\n",
              "\n",
              "    ctx.translate( 0.5 * w, 0.5 * h );\n",
              "    ctx.scale( s, s );\n",
              "    ctx.translate( - cx, - cy );\n",
              "\n",
              "    var c = 1.0 / s;\n",
              "    ctx.lineWidth = c;\n",
              "    ctx.strokeStyle = \"#000000\";\n",
              "    ctx.stroke( pd.path_int );\n",
              "    ctx.strokeStyle = \"rgb(0,0,0,0.2)\";\n",
              "    ctx.stroke( pd.path_ext );\n",
              "\n",
              "    ctx.strokeStyle = \"#0000FF\";\n",
              "    if ( disp_positions ) {\n",
              "        for( var i = 0; i < pd.diracs.length; ++i ) {\n",
              "            ctx.beginPath();\n",
              "            ctx.moveTo( pd.diracs[ i ][ 0 ] - 4 * c, pd.diracs[ i ][ 1 ] );\n",
              "            ctx.lineTo( pd.diracs[ i ][ 0 ] + 4 * c, pd.diracs[ i ][ 1 ] );\n",
              "            ctx.stroke();\n",
              "\n",
              "            ctx.beginPath();\n",
              "            ctx.moveTo( pd.diracs[ i ][ 0 ], pd.diracs[ i ][ 1 ] - 4 * c );\n",
              "            ctx.lineTo( pd.diracs[ i ][ 0 ], pd.diracs[ i ][ 1 ] + 4 * c );\n",
              "            ctx.stroke();\n",
              "        }\n",
              "    }\n",
              "\n",
              "    ctx.strokeStyle = \"#0000FF\";\n",
              "    if ( disp_arrows ) {\n",
              "        for( var i = 0; i < pd.diracs.length; ++i ) {\n",
              "            ctx.beginPath();\n",
              "            ctx.moveTo( pd.centroids[ i ][ 0 ], pd.centroids[ i ][ 1 ] );\n",
              "            ctx.lineTo( pd.diracs[ i ][ 0 ], pd.diracs[ i ][ 1 ] );\n",
              "            ctx.stroke();\n",
              "        }\n",
              "    }\n",
              "\n",
              "    if ( pd_list.length > 1 && cur_pd + 1 == pd_list.length ) {\n",
              "        ctx.setTransform( 1, 0, 0, 1, 0, 0 );\n",
              "        ctx.font = '16px serif';\n",
              "        ctx.strokeStyle = \"#FF0000\";\n",
              "        ctx.fillText( \"left click to replay the animation\", 10, h - 5 );\n",
              "    }\n",
              "}\n",
              "\n",
              "function next_frame() {\n",
              "    if ( cur_pd + 1 < pd_list.length ) {\n",
              "        setTimeout( next_frame, 50 );\n",
              "        cur_pd += 1;\n",
              "        draw();\n",
              "    }\n",
              "}\n",
              "\n",
              "canvas.addEventListener( \"wheel\", function( e ) {  \n",
              "    if ( e.shiftKey ) {\n",
              "        var w = canvas.width, h = canvas.height;\n",
              "        var r = canvas.getBoundingClientRect();\n",
              "        var m = 0.5 * Math.min( w, h );\n",
              "        var s = m / cr;\n",
              "\n",
              "        var d = Math.pow( 2, ( - e.wheelDeltaY / 200.0 || e.deltaY / 5.0 ) );\n",
              "        cx -= ( e.x - r.x - 0.5 * w ) * ( d - 1 ) / s;\n",
              "        cy -= ( e.y - r.y - 0.5 * h ) * ( d - 1 ) / s;\n",
              "        cr *= d;\n",
              "\n",
              "        draw();\n",
              "        return false;\n",
              "    }\n",
              "}, false );\n",
              "\n",
              "canvas.addEventListener( \"mousedown\", function( e ) {  \n",
              "    orig_click_x = e.x;\n",
              "    orig_click_y = e.y;\n",
              "    pos_click_x = e.x;\n",
              "    pos_click_y = e.y;\n",
              "} );\n",
              "\n",
              "canvas.addEventListener( \"mousemove\", function( e ) {  \n",
              "    if ( e.buttons == 1 || e.buttons == 4 ) {\n",
              "        var w = canvas.width, h = canvas.height;\n",
              "        var m = 0.5 * Math.min( w, h );\n",
              "        var s = m / cr;\n",
              "\n",
              "        cx -= ( e.x - pos_click_x ) / s;\n",
              "        cy -= ( e.y - pos_click_y ) / s;\n",
              "        pos_click_x = e.x;\n",
              "        pos_click_y = e.y;\n",
              "\n",
              "        draw();\n",
              "    }\n",
              "} );\n",
              "\n",
              "canvas.addEventListener( \"mouseup\", function( e ) {  \n",
              "    if ( pd_list.length > 1 && orig_click_x === e.x && orig_click_y == e.y ) {\n",
              "        setTimeout( next_frame, 50 );\n",
              "        cur_pd = 0;\n",
              "        draw();\n",
              "    }\n",
              "} );\n",
              "\n",
              "if ( pd_list.length > 1 ) {\n",
              "    setTimeout( next_frame, 50 );\n",
              "}\n",
              "draw();\n",
              "})();\n",
              "        "
            ]
          },
          "metadata": {},
          "execution_count": 10
        }
      ]
    },
    {
      "cell_type": "markdown",
      "source": [
        "# Entropic regularization"
      ],
      "metadata": {
        "id": "aaL-_PMjeSOE"
      }
    },
    {
      "cell_type": "code",
      "source": [
        "\n",
        "from scipy.optimize import minimize\n",
        "\n",
        "sigma = 1\n",
        "\n",
        "# Define the function\n",
        "def f(argument):\n",
        "  u_x = argument[:nbx]\n",
        "  v_y = argument[nbx:]\n",
        "  mu_x_y = np.exp( (phi_x_y - u_x[:,None] - v_y[None,:] -sigma) / sigma )\n",
        "  return (n_x @ u_x + m_y @ v_y + sigma * mu_x_y.sum())\n",
        "\n",
        "# Derivative of the function\n",
        "def gradient(argument):\n",
        "  u_x = argument[:nbx]\n",
        "  v_y = argument[nbx:]\n",
        "  mu_x_y = np.exp( (phi_x_y - u_x[:,None] - v_y[None,:] -sigma) / sigma )\n",
        "  return np.concatenate([n_x - mu_x_y.sum(axis = 1), m_y - mu_x_y.sum(axis = 0)])\n"
      ],
      "metadata": {
        "id": "YMlaGdw7eRoP"
      },
      "execution_count": null,
      "outputs": []
    },
    {
      "cell_type": "code",
      "source": [
        "# Use minimize with the BFGS method\n",
        "initial_guess = np.zeros(nbx+nby)\n",
        "#gradient(initial_guess)\n",
        "result = minimize(f, initial_guess, jac=gradient, method='BFGS')\n",
        "usol_x = result.x[:nbx]\n",
        "vsol_y = result.x[nbx:]\n",
        "print(usol_x-usol_x[-1],vsol_y+usol_x[-1])\n"
      ],
      "metadata": {
        "colab": {
          "base_uri": "https://localhost:8080/"
        },
        "id": "mqtxMbGvgY7Y",
        "outputId": "96a44b0c-6537-4591-9199-510e55bf785c"
      },
      "execution_count": null,
      "outputs": [
        {
          "output_type": "stream",
          "name": "stdout",
          "text": [
            "[-6.6636506  -7.16533912  0.        ] [13.00020321 15.50199402]\n"
          ]
        }
      ]
    },
    {
      "cell_type": "code",
      "source": [
        "K_x_y = np.exp( phi_x_y /  sigma -1 )\n",
        "\n",
        "reltol = 1e-5\n",
        "\n",
        "B_y = np.ones(nby)\n",
        "while True:\n",
        "  A_x = (K_x_y @ (1/B_y)) / n_x\n",
        "  B_y = (K_x_y.T @ (1/A_x)) / m_y\n",
        "  if ((K_x_y / (A_x[:,None] * B_y[None,:])).sum(axis = 1) / n_x - 1).max() < reltol:\n",
        "    break"
      ],
      "metadata": {
        "id": "p_AfRm0Li3ol"
      },
      "execution_count": null,
      "outputs": []
    },
    {
      "cell_type": "code",
      "source": [
        "usolbis_x = sigma*np.log(A_x)\n",
        "vsolbis_y = sigma*np.log(B_y)\n",
        "print(usolbis_x-usolbis_x[-1],vsolbis_y+usolbis_x[-1])"
      ],
      "metadata": {
        "colab": {
          "base_uri": "https://localhost:8080/"
        },
        "id": "RTN4Cz73jcCk",
        "outputId": "67176006-4e63-433c-a3a2-bdc1d03f0675"
      },
      "execution_count": null,
      "outputs": [
        {
          "output_type": "stream",
          "name": "stdout",
          "text": [
            "[-6.66364498 -7.16509384  0.        ] [13.00019382 15.5017562 ]\n"
          ]
        }
      ]
    },
    {
      "cell_type": "markdown",
      "source": [
        "Small value of $\\sigma$."
      ],
      "metadata": {
        "id": "x785zckOlCK2"
      }
    },
    {
      "cell_type": "code",
      "source": [
        "# Naive try:\n",
        "sigma = 0.5\n",
        "\n",
        "K_x_y = np.exp( phi_x_y /  sigma -1 )\n",
        "\n",
        "reltol = 1e-5\n",
        "maxiter = 1e3\n",
        "\n",
        "B_y = np.ones(nby)\n",
        "t = 0\n",
        "while True and t < maxiter:\n",
        "  t += 1\n",
        "  A_x = (K_x_y @ (1/B_y)) / n_x\n",
        "  B_y = (K_x_y.T @ (1/A_x)) / m_y\n",
        "  if ((K_x_y / (A_x[:,None] * B_y[None,:])).sum(axis = 1) / n_x - 1).max() < reltol:\n",
        "    break\n",
        "\n",
        "print(t)"
      ],
      "metadata": {
        "colab": {
          "base_uri": "https://localhost:8080/"
        },
        "id": "MB82QUL8lBWF",
        "outputId": "5825d7dc-135b-45fe-cb43-eb5b4679bcc6"
      },
      "execution_count": null,
      "outputs": [
        {
          "output_type": "stream",
          "name": "stdout",
          "text": [
            "1000\n"
          ]
        }
      ]
    },
    {
      "cell_type": "markdown",
      "source": [
        "## The log-sum-exp trick"
      ],
      "metadata": {
        "id": "2JIyl-ZWmrs2"
      }
    },
    {
      "cell_type": "code",
      "source": [
        "A=2000\n",
        "B=3"
      ],
      "metadata": {
        "id": "UDUH6tzblgPQ"
      },
      "execution_count": null,
      "outputs": []
    },
    {
      "cell_type": "code",
      "source": [
        "np.log(np.exp(A)+np.exp(B))"
      ],
      "metadata": {
        "colab": {
          "base_uri": "https://localhost:8080/"
        },
        "id": "OqfeGEVdm0mR",
        "outputId": "6d6e479e-5703-4fe3-9e7a-872e89780b59"
      },
      "execution_count": null,
      "outputs": [
        {
          "output_type": "stream",
          "name": "stderr",
          "text": [
            "<ipython-input-60-9aeddbc1df0f>:1: RuntimeWarning: overflow encountered in exp\n",
            "  np.log(np.exp(A)+np.exp(B))\n"
          ]
        },
        {
          "output_type": "execute_result",
          "data": {
            "text/plain": [
              "inf"
            ]
          },
          "metadata": {},
          "execution_count": 60
        }
      ]
    },
    {
      "cell_type": "code",
      "source": [
        "t = max(A,B)\n",
        "np.log(np.exp(A-t)+np.exp(B-t))+t"
      ],
      "metadata": {
        "colab": {
          "base_uri": "https://localhost:8080/"
        },
        "id": "VHIM_iB_oNVT",
        "outputId": "31f842f0-b0cf-4671-f1b5-37c2e4770f2f"
      },
      "execution_count": null,
      "outputs": [
        {
          "output_type": "execute_result",
          "data": {
            "text/plain": [
              "2000.0"
            ]
          },
          "metadata": {},
          "execution_count": 61
        }
      ]
    },
    {
      "cell_type": "code",
      "source": [
        "sigma = 0.1\n",
        "\n",
        "#K_x_y = np.exp( phi_x_y /  sigma -1 )\n",
        "\n",
        "reltol = 1e-6\n",
        "maxiter = 1e5\n",
        "\n",
        "v_y = np.zeros(nby)\n",
        "t = 0\n",
        "while True and t < maxiter:\n",
        "  t += 1\n",
        "  a_x = (phi_x_y - v_y[None,:]).max(axis = 1) - sigma\n",
        "  u_x =   a_x + sigma * np.log(   np.exp(   ( phi_x_y - a_x[:,None] - v_y[None,:] - sigma ) /sigma   ).sum(axis=1) / n_x )\n",
        "  b_y = (phi_x_y - u_x[:,None]).max(axis = 0) - sigma\n",
        "  vnext_y = b_y + sigma * np.log(  np.exp(  ( phi_x_y - b_y[None,:] - u_x[:,None] - sigma) / sigma   ).sum(axis=0)  / m_y)\n",
        "  if np.abs((v_y - v_y[0]) - (vnext_y - vnext_y[0])).max() < reltol:\n",
        "    break\n",
        "  v_y = vnext_y\n",
        "\n",
        "print(t)"
      ],
      "metadata": {
        "colab": {
          "base_uri": "https://localhost:8080/"
        },
        "id": "HEMVEc68pBHH",
        "outputId": "9b23938e-7533-464e-9d36-39846b2a1d1e"
      },
      "execution_count": null,
      "outputs": [
        {
          "output_type": "stream",
          "name": "stdout",
          "text": [
            "86785\n"
          ]
        }
      ]
    },
    {
      "cell_type": "code",
      "source": [
        "print(u_x-u_x[-1],v_y+u_x[-1])"
      ],
      "metadata": {
        "colab": {
          "base_uri": "https://localhost:8080/"
        },
        "id": "UK3ijZJ2qzgT",
        "outputId": "4b1a9244-e7a1-46d9-b247-dbaa89584d97"
      },
      "execution_count": null,
      "outputs": [
        {
          "output_type": "stream",
          "name": "stdout",
          "text": [
            "[-6.06931412 -4.2716893   0.        ] [13.9        14.10237458]\n"
          ]
        }
      ]
    },
    {
      "cell_type": "code",
      "source": [
        "print(usolbis_x-usolbis_x[-1],vsolbis_y+usolbis_x[-1])"
      ],
      "metadata": {
        "colab": {
          "base_uri": "https://localhost:8080/"
        },
        "id": "_DVwhPjAqyOT",
        "outputId": "c6833c5f-1650-4dcf-e1fb-e8ec263d3846"
      },
      "execution_count": null,
      "outputs": [
        {
          "output_type": "stream",
          "name": "stdout",
          "text": [
            "[-6.66364498 -7.16509384  0.        ] [13.00019382 15.5017562 ]\n"
          ]
        }
      ]
    }
  ]
}